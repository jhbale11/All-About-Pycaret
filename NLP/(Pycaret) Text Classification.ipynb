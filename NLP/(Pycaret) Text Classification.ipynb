{
 "cells": [
  {
   "cell_type": "markdown",
   "id": "5df9138c-ad4c-45fc-8ccd-5ed6417a5d85",
   "metadata": {},
   "source": [
    "# (Pycaret) NLP\n",
    "\n",
    "Last Update : 2022/09/22\n",
    "\n",
    "Pycaret Version : 2.3.10\n",
    "\n",
    "Author : [jhbale11](https://github.com/jhbale11)"
   ]
  },
  {
   "cell_type": "markdown",
   "id": "a0d7d882-eaf6-4761-a816-47aa3ebf83eb",
   "metadata": {
    "tags": []
   },
   "source": [
    "## Table of Contents\n",
    "\n",
    "### [Import Libraries](#Import-the-Libraries)\n",
    "### [Load Data](#Load-Data)\n",
    "\n",
    "### 1. [Setup](#Setup)\n",
    "### 2. [Compare Models](#Compare-Models)\n",
    "### 3. [Create Model](#Create-Model)\n",
    "### 4. [Assign Model](#Assign-Model)\n",
    "### 5. [Plot Model](#Plot-Model)\n",
    "### 6. [Save Model](#Save-Model)"
   ]
  },
  {
   "cell_type": "markdown",
   "id": "368e0183-2b0e-4cb4-8278-049073f31bda",
   "metadata": {
    "tags": []
   },
   "source": [
    "# Import the Libraries"
   ]
  },
  {
   "cell_type": "code",
   "execution_count": 2,
   "id": "0bc9dfea-6006-4ec8-a7ec-87c5ad4b7148",
   "metadata": {},
   "outputs": [
    {
     "data": {
      "text/plain": [
       "<Figure size 1440x360 with 0 Axes>"
      ]
     },
     "metadata": {},
     "output_type": "display_data"
    }
   ],
   "source": [
    "import numpy as np\n",
    "import matplotlib.pyplot as plt\n",
    "import pandas as pd\n",
    "import numpy as np\n",
    "import warnings\n",
    "from pycaret.nlp import *\n",
    "\n",
    "warnings.filterwarnings(action='ignore')\n",
    "\n",
    "plt.figure(figsize=(20,5))\n",
    "plt.rcParams['font.family'] = 'NanumGothic'"
   ]
  },
  {
   "cell_type": "code",
   "execution_count": 3,
   "id": "eb02359c-cd30-46fc-811a-b20bfc543c8c",
   "metadata": {},
   "outputs": [
    {
     "data": {
      "text/plain": [
       "'2.3.10'"
      ]
     },
     "execution_count": 3,
     "metadata": {},
     "output_type": "execute_result"
    }
   ],
   "source": [
    "from pycaret.utils import version\n",
    "version()"
   ]
  },
  {
   "cell_type": "markdown",
   "id": "e4cf1c93-9bd5-4ebd-9bee-b89c2ac033ba",
   "metadata": {
    "tags": []
   },
   "source": [
    "# Load Data\n",
    "\n",
    "For this tutorial we will be using data from Kiva Microfunds https://www.kiva.org/. Kiva Microfunds is a non-profit that allows individuals to lend money to low-income entrepreneurs and students around the world. Since starting in 2005, Kiva has crowd-funded millions of loans with a repayment rate of around 98%. At Kiva, each loan request includes both traditional demographic information on the borrower, such as gender and location, as well as a personal story. In this tutorial we will use the text given in personal story to gain insights of the dataset and understand hidden semantic structure in the text. \n",
    "\n",
    "The dataset contains 6,818 samples. Short description of features are below:\n",
    "\n",
    "- country: country of borrower\n",
    "- en: Personal story of borrower when applied for loan\n",
    "- gender: Gender (M=male, F=female)\n",
    "- loan_amount: Amount of loan approved and disbursed\n",
    "- nonpayment: Type of lender (Lender = personal registered user on Kiva website, Partner = microfinance institution who work with Kiva to find and fund loans)\n",
    "- sector: sector of borrower\n",
    "- status: status of loan (1-default, 0-repaid)\n",
    "\n",
    "In this tutorial we will only use en column to create topic model."
   ]
  },
  {
   "cell_type": "code",
   "execution_count": 4,
   "id": "ae7b4bc2-df7f-421b-b4e9-b11505417141",
   "metadata": {},
   "outputs": [
    {
     "data": {
      "text/html": [
       "<div>\n",
       "<style scoped>\n",
       "    .dataframe tbody tr th:only-of-type {\n",
       "        vertical-align: middle;\n",
       "    }\n",
       "\n",
       "    .dataframe tbody tr th {\n",
       "        vertical-align: top;\n",
       "    }\n",
       "\n",
       "    .dataframe thead th {\n",
       "        text-align: right;\n",
       "    }\n",
       "</style>\n",
       "<table border=\"1\" class=\"dataframe\">\n",
       "  <thead>\n",
       "    <tr style=\"text-align: right;\">\n",
       "      <th></th>\n",
       "      <th>country</th>\n",
       "      <th>en</th>\n",
       "      <th>gender</th>\n",
       "      <th>loan_amount</th>\n",
       "      <th>nonpayment</th>\n",
       "      <th>sector</th>\n",
       "      <th>status</th>\n",
       "    </tr>\n",
       "  </thead>\n",
       "  <tbody>\n",
       "    <tr>\n",
       "      <th>0</th>\n",
       "      <td>Dominican Republic</td>\n",
       "      <td>\"Banco Esperanza\" is a group of 10 women looki...</td>\n",
       "      <td>F</td>\n",
       "      <td>1225</td>\n",
       "      <td>partner</td>\n",
       "      <td>Retail</td>\n",
       "      <td>0</td>\n",
       "    </tr>\n",
       "    <tr>\n",
       "      <th>1</th>\n",
       "      <td>Dominican Republic</td>\n",
       "      <td>\"Caminemos Hacia Adelante\" or \"Walking Forward...</td>\n",
       "      <td>F</td>\n",
       "      <td>1975</td>\n",
       "      <td>lender</td>\n",
       "      <td>Clothing</td>\n",
       "      <td>0</td>\n",
       "    </tr>\n",
       "    <tr>\n",
       "      <th>2</th>\n",
       "      <td>Dominican Republic</td>\n",
       "      <td>\"Creciendo Por La Union\" is a group of 10 peop...</td>\n",
       "      <td>F</td>\n",
       "      <td>2175</td>\n",
       "      <td>partner</td>\n",
       "      <td>Clothing</td>\n",
       "      <td>0</td>\n",
       "    </tr>\n",
       "    <tr>\n",
       "      <th>3</th>\n",
       "      <td>Dominican Republic</td>\n",
       "      <td>\"Cristo Vive\" (\"Christ lives\" is a group of 10...</td>\n",
       "      <td>F</td>\n",
       "      <td>1425</td>\n",
       "      <td>partner</td>\n",
       "      <td>Clothing</td>\n",
       "      <td>0</td>\n",
       "    </tr>\n",
       "    <tr>\n",
       "      <th>4</th>\n",
       "      <td>Dominican Republic</td>\n",
       "      <td>\"Cristo Vive\" is a large group of 35 people, 2...</td>\n",
       "      <td>F</td>\n",
       "      <td>4025</td>\n",
       "      <td>partner</td>\n",
       "      <td>Food</td>\n",
       "      <td>0</td>\n",
       "    </tr>\n",
       "  </tbody>\n",
       "</table>\n",
       "</div>"
      ],
      "text/plain": [
       "              country                                                 en  \\\n",
       "0  Dominican Republic  \"Banco Esperanza\" is a group of 10 women looki...   \n",
       "1  Dominican Republic  \"Caminemos Hacia Adelante\" or \"Walking Forward...   \n",
       "2  Dominican Republic  \"Creciendo Por La Union\" is a group of 10 peop...   \n",
       "3  Dominican Republic  \"Cristo Vive\" (\"Christ lives\" is a group of 10...   \n",
       "4  Dominican Republic  \"Cristo Vive\" is a large group of 35 people, 2...   \n",
       "\n",
       "  gender  loan_amount nonpayment    sector  status  \n",
       "0      F         1225    partner    Retail       0  \n",
       "1      F         1975     lender  Clothing       0  \n",
       "2      F         2175    partner  Clothing       0  \n",
       "3      F         1425    partner  Clothing       0  \n",
       "4      F         4025    partner      Food       0  "
      ]
     },
     "metadata": {},
     "output_type": "display_data"
    }
   ],
   "source": [
    "from pycaret.datasets import get_data\n",
    "data = get_data('kiva')"
   ]
  },
  {
   "cell_type": "code",
   "execution_count": 5,
   "id": "a676e057-b120-4cb7-af4e-dd4a981ba33b",
   "metadata": {},
   "outputs": [
    {
     "data": {
      "text/plain": [
       "(6818, 7)"
      ]
     },
     "execution_count": 5,
     "metadata": {},
     "output_type": "execute_result"
    }
   ],
   "source": [
    "data.shape"
   ]
  },
  {
   "cell_type": "code",
   "execution_count": 6,
   "id": "b3ebd7ea-b77a-45c4-9034-1b964db81096",
   "metadata": {},
   "outputs": [
    {
     "data": {
      "text/html": [
       "<div>\n",
       "<style scoped>\n",
       "    .dataframe tbody tr th:only-of-type {\n",
       "        vertical-align: middle;\n",
       "    }\n",
       "\n",
       "    .dataframe tbody tr th {\n",
       "        vertical-align: top;\n",
       "    }\n",
       "\n",
       "    .dataframe thead th {\n",
       "        text-align: right;\n",
       "    }\n",
       "</style>\n",
       "<table border=\"1\" class=\"dataframe\">\n",
       "  <thead>\n",
       "    <tr style=\"text-align: right;\">\n",
       "      <th></th>\n",
       "      <th>country</th>\n",
       "      <th>en</th>\n",
       "      <th>gender</th>\n",
       "      <th>loan_amount</th>\n",
       "      <th>nonpayment</th>\n",
       "      <th>sector</th>\n",
       "      <th>status</th>\n",
       "    </tr>\n",
       "  </thead>\n",
       "  <tbody>\n",
       "    <tr>\n",
       "      <th>0</th>\n",
       "      <td>Dominican Republic</td>\n",
       "      <td>\"Banco Esperanza\" is a group of 10 women looki...</td>\n",
       "      <td>F</td>\n",
       "      <td>1225</td>\n",
       "      <td>partner</td>\n",
       "      <td>Retail</td>\n",
       "      <td>0</td>\n",
       "    </tr>\n",
       "    <tr>\n",
       "      <th>1</th>\n",
       "      <td>Dominican Republic</td>\n",
       "      <td>\"Caminemos Hacia Adelante\" or \"Walking Forward...</td>\n",
       "      <td>F</td>\n",
       "      <td>1975</td>\n",
       "      <td>lender</td>\n",
       "      <td>Clothing</td>\n",
       "      <td>0</td>\n",
       "    </tr>\n",
       "    <tr>\n",
       "      <th>2</th>\n",
       "      <td>Dominican Republic</td>\n",
       "      <td>\"Creciendo Por La Union\" is a group of 10 peop...</td>\n",
       "      <td>F</td>\n",
       "      <td>2175</td>\n",
       "      <td>partner</td>\n",
       "      <td>Clothing</td>\n",
       "      <td>0</td>\n",
       "    </tr>\n",
       "    <tr>\n",
       "      <th>3</th>\n",
       "      <td>Dominican Republic</td>\n",
       "      <td>\"Cristo Vive\" (\"Christ lives\" is a group of 10...</td>\n",
       "      <td>F</td>\n",
       "      <td>1425</td>\n",
       "      <td>partner</td>\n",
       "      <td>Clothing</td>\n",
       "      <td>0</td>\n",
       "    </tr>\n",
       "    <tr>\n",
       "      <th>4</th>\n",
       "      <td>Dominican Republic</td>\n",
       "      <td>\"Cristo Vive\" is a large group of 35 people, 2...</td>\n",
       "      <td>F</td>\n",
       "      <td>4025</td>\n",
       "      <td>partner</td>\n",
       "      <td>Food</td>\n",
       "      <td>0</td>\n",
       "    </tr>\n",
       "  </tbody>\n",
       "</table>\n",
       "</div>"
      ],
      "text/plain": [
       "              country                                                 en  \\\n",
       "0  Dominican Republic  \"Banco Esperanza\" is a group of 10 women looki...   \n",
       "1  Dominican Republic  \"Caminemos Hacia Adelante\" or \"Walking Forward...   \n",
       "2  Dominican Republic  \"Creciendo Por La Union\" is a group of 10 peop...   \n",
       "3  Dominican Republic  \"Cristo Vive\" (\"Christ lives\" is a group of 10...   \n",
       "4  Dominican Republic  \"Cristo Vive\" is a large group of 35 people, 2...   \n",
       "\n",
       "  gender  loan_amount nonpayment    sector  status  \n",
       "0      F         1225    partner    Retail       0  \n",
       "1      F         1975     lender  Clothing       0  \n",
       "2      F         2175    partner  Clothing       0  \n",
       "3      F         1425    partner  Clothing       0  \n",
       "4      F         4025    partner      Food       0  "
      ]
     },
     "execution_count": 6,
     "metadata": {},
     "output_type": "execute_result"
    }
   ],
   "source": [
    "data.head(5)"
   ]
  },
  {
   "cell_type": "code",
   "execution_count": 7,
   "id": "7d6592c7-0357-4531-a311-59370e7c6f6e",
   "metadata": {
    "tags": []
   },
   "outputs": [
    {
     "data": {
      "text/plain": [
       "country        object\n",
       "en             object\n",
       "gender         object\n",
       "loan_amount     int64\n",
       "nonpayment     object\n",
       "sector         object\n",
       "status          int64\n",
       "dtype: object"
      ]
     },
     "execution_count": 7,
     "metadata": {},
     "output_type": "execute_result"
    }
   ],
   "source": [
    "data.dtypes"
   ]
  },
  {
   "cell_type": "markdown",
   "id": "8ac3eebb-9020-46e3-8245-c645224b0ce2",
   "metadata": {
    "tags": []
   },
   "source": [
    "# Setup\n",
    "\n",
    "To start with Pycaret, the first step is to import all methods and attributes from pycaret's regression model\n",
    "\n",
    "Pycaret workflow always starts with `setup` function which prepares the environment for the entire ML pipeline. \n",
    "\n",
    "Thus `setup` must be executed before any other functions.\n",
    "\n",
    "- `Removing Numeric Character`s: All numeric characters are removed from the text. They are replaced with blanks.\n",
    "\n",
    "- `Removing Special Characters`: All non-alphanumeric special characters are removed from the text. They are also replaced with blanks.\n",
    "\n",
    "- `Word Tokenization` : Word tokenization is the process of splitting a large sample of text into words. This is the core requirement in natural language processing tasks where each word needs to be captured separately for further analysis. Read More\n",
    "\n",
    "- `Stopword Removal` : A stop word (or stopword) is a word that is often removed from text because it is common and provides little value for information retrieval, even though it might be linguistically meaningful. Example of such words in english language are: \"the\", \"a\", \"an\", \"in\" etc. Read More\n",
    "\n",
    "- `Bigram Extraction`: A bigram is a sequence of two adjacent elements from a string of tokens, which are typically letters, syllables, or words. For example: word New York is captured as two different words \"New\" and \"York\" when tokenization is performed but if it is repeated enough times, Bigram Extraction will represent the word as one i.e. \"New_York\" Read More\n",
    "\n",
    "- `Trigram Extraction`: Similar to bigram extraction, trigram is a sequence of three adjacent elements from a string of tokens. Read More\n",
    "\n",
    "- `Lemmatizing` : Lemmatization is the process of grouping together the inflected forms of a word so they can be analysed as a single word, identified by the word's lemma, or dictionary form. In English language, word appears in several inflected forms. For example the verb 'to walk' may appear as 'walk', 'walked', 'walks', 'walking'. The base form, 'walk', that one might look up in a dictionary, is called the lemma for the word. Read More\n",
    "\n",
    "- `Custom Stopwords`: Many times text contains words that are not stopwords by the rule of language but they add no or very little information. For example, in this tutorial we are using the loan dataset. As such, words like \"loan\", \"bank\", \"money\", \"business\" are too obvious and adds no value. More often than not, they also add a lot of noise in the topic model. You can remove those words from corpus by using custom_stopwords parameter. In next tutorial, Natural Language Processing Tutorial (NLP102) - Level Intermediate we will demonstrate the use of custom_stopwords parameter inside setup().\n"
   ]
  },
  {
   "cell_type": "code",
   "execution_count": 8,
   "id": "e86810b7-e134-4482-9472-4747b4063342",
   "metadata": {},
   "outputs": [
    {
     "data": {
      "text/html": [
       "<style type=\"text/css\">\n",
       "</style>\n",
       "<table id=\"T_462c6_\">\n",
       "  <thead>\n",
       "    <tr>\n",
       "      <th class=\"col_heading level0 col0\" >Description</th>\n",
       "      <th class=\"col_heading level0 col1\" >Value</th>\n",
       "    </tr>\n",
       "  </thead>\n",
       "  <tbody>\n",
       "    <tr>\n",
       "      <td id=\"T_462c6_row0_col0\" class=\"data row0 col0\" >session_id</td>\n",
       "      <td id=\"T_462c6_row0_col1\" class=\"data row0 col1\" >123</td>\n",
       "    </tr>\n",
       "    <tr>\n",
       "      <td id=\"T_462c6_row1_col0\" class=\"data row1 col0\" >Documents</td>\n",
       "      <td id=\"T_462c6_row1_col1\" class=\"data row1 col1\" >6818</td>\n",
       "    </tr>\n",
       "    <tr>\n",
       "      <td id=\"T_462c6_row2_col0\" class=\"data row2 col0\" >Vocab Size</td>\n",
       "      <td id=\"T_462c6_row2_col1\" class=\"data row2 col1\" >10753</td>\n",
       "    </tr>\n",
       "    <tr>\n",
       "      <td id=\"T_462c6_row3_col0\" class=\"data row3 col0\" >Custom Stopwords</td>\n",
       "      <td id=\"T_462c6_row3_col1\" class=\"data row3 col1\" >False</td>\n",
       "    </tr>\n",
       "  </tbody>\n",
       "</table>\n"
      ],
      "text/plain": [
       "<pandas.io.formats.style.Styler at 0x7f582aee8a10>"
      ]
     },
     "metadata": {},
     "output_type": "display_data"
    }
   ],
   "source": [
    "exp_nlp101 = setup(data = data, target = 'en', session_id = 123)"
   ]
  },
  {
   "cell_type": "markdown",
   "id": "18c71b72-1c49-4c4e-84e0-f240c3ca7958",
   "metadata": {},
   "source": [
    "### `setup()` Parameters\n",
    "- `session_id` : A pseduo-random number distributed as a seed in all functions for later reproducibility. If no session_id is passed, a random number is automatically generated that is distributed to all functions. In this experiment session_id is set as 123 for later reproducibility.\n",
    "\n",
    "- `Number of Documents` : Number of documents or samples in dataset if dataframe is passed.\n",
    "\n",
    "- `Vocab Size` : Size of vocabulary in the corpus after applying all text pre-processing such as removal of stopwords, bigram/trigram extraction, lemmatization etc.\n",
    "\n",
    "Notice that all text pre-processing steps are performed automatically when you execute `setup()`. These steps are imperative to perform any NLP experiment. `setup()` function prepares the corpus and dictionary that is ready-to-use for the topic models that you can create using `create_model()` function."
   ]
  },
  {
   "cell_type": "markdown",
   "id": "fc659303-69af-4969-b6e4-f85bb372f44d",
   "metadata": {},
   "source": [
    "# Compare Models"
   ]
  },
  {
   "cell_type": "code",
   "execution_count": 9,
   "id": "adeb65af-2fbf-4976-a909-9a2b4fa0e208",
   "metadata": {},
   "outputs": [
    {
     "data": {
      "text/html": [
       "<div>\n",
       "<style scoped>\n",
       "    .dataframe tbody tr th:only-of-type {\n",
       "        vertical-align: middle;\n",
       "    }\n",
       "\n",
       "    .dataframe tbody tr th {\n",
       "        vertical-align: top;\n",
       "    }\n",
       "\n",
       "    .dataframe thead th {\n",
       "        text-align: right;\n",
       "    }\n",
       "</style>\n",
       "<table border=\"1\" class=\"dataframe\">\n",
       "  <thead>\n",
       "    <tr style=\"text-align: right;\">\n",
       "      <th></th>\n",
       "      <th>Name</th>\n",
       "      <th>Reference</th>\n",
       "    </tr>\n",
       "    <tr>\n",
       "      <th>ID</th>\n",
       "      <th></th>\n",
       "      <th></th>\n",
       "    </tr>\n",
       "  </thead>\n",
       "  <tbody>\n",
       "    <tr>\n",
       "      <th>lda</th>\n",
       "      <td>Latent Dirichlet Allocation</td>\n",
       "      <td>gensim/models/ldamodel</td>\n",
       "    </tr>\n",
       "    <tr>\n",
       "      <th>lsi</th>\n",
       "      <td>Latent Semantic Indexing</td>\n",
       "      <td>gensim/models/lsimodel</td>\n",
       "    </tr>\n",
       "    <tr>\n",
       "      <th>hdp</th>\n",
       "      <td>Hierarchical Dirichlet Process</td>\n",
       "      <td>gensim/models/hdpmodel</td>\n",
       "    </tr>\n",
       "    <tr>\n",
       "      <th>rp</th>\n",
       "      <td>Random Projections</td>\n",
       "      <td>gensim/models/rpmodel</td>\n",
       "    </tr>\n",
       "    <tr>\n",
       "      <th>nmf</th>\n",
       "      <td>Non-Negative Matrix Factorization</td>\n",
       "      <td>sklearn.decomposition.NMF</td>\n",
       "    </tr>\n",
       "  </tbody>\n",
       "</table>\n",
       "</div>"
      ],
      "text/plain": [
       "                                  Name                  Reference\n",
       "ID                                                               \n",
       "lda        Latent Dirichlet Allocation     gensim/models/ldamodel\n",
       "lsi           Latent Semantic Indexing     gensim/models/lsimodel\n",
       "hdp     Hierarchical Dirichlet Process     gensim/models/hdpmodel\n",
       "rp                  Random Projections      gensim/models/rpmodel\n",
       "nmf  Non-Negative Matrix Factorization  sklearn.decomposition.NMF"
      ]
     },
     "execution_count": 9,
     "metadata": {},
     "output_type": "execute_result"
    }
   ],
   "source": [
    "models()"
   ]
  },
  {
   "cell_type": "markdown",
   "id": "06873368-c3d7-4676-90b9-18809289061a",
   "metadata": {
    "tags": []
   },
   "source": [
    "# Create Model"
   ]
  },
  {
   "cell_type": "code",
   "execution_count": 10,
   "id": "c963100a-149a-4085-8441-d8d0173e6b1b",
   "metadata": {},
   "outputs": [
    {
     "name": "stdout",
     "output_type": "stream",
     "text": [
      "LdaModel(num_terms=10753, num_topics=4, decay=0.5, chunksize=100)\n"
     ]
    }
   ],
   "source": [
    "lda = create_model('lda')\n",
    "print(lda)"
   ]
  },
  {
   "cell_type": "code",
   "execution_count": 11,
   "id": "0b45dcb8-59a3-4c11-a83a-298f7ae21486",
   "metadata": {},
   "outputs": [
    {
     "name": "stdout",
     "output_type": "stream",
     "text": [
      "LdaModel(num_terms=10753, num_topics=6, decay=0.5, chunksize=100)\n"
     ]
    }
   ],
   "source": [
    "lda2 = create_model('lda', num_topics = 6, multi_core = True)\n",
    "print(lda2)"
   ]
  },
  {
   "cell_type": "code",
   "execution_count": 18,
   "id": "e0c421c0-aefd-4594-841b-79adcb9aaed2",
   "metadata": {},
   "outputs": [
    {
     "name": "stdout",
     "output_type": "stream",
     "text": [
      "NMF(alpha=0.0, beta_loss='frobenius', init='nndsvd', l1_ratio=0.0, max_iter=200,\n",
      "    n_components=4, random_state=123, shuffle=False, solver='cd', tol=0.0001,\n",
      "    verbose=0)\n"
     ]
    }
   ],
   "source": [
    "nmf = create_model('nmf')\n",
    "print(nmf)"
   ]
  },
  {
   "cell_type": "markdown",
   "id": "6806156b-bdcc-464a-8fac-669c765f8485",
   "metadata": {
    "tags": []
   },
   "source": [
    "# Assign Model"
   ]
  },
  {
   "cell_type": "code",
   "execution_count": 12,
   "id": "fee54686-d5b8-4c20-8459-2d37c5678521",
   "metadata": {},
   "outputs": [
    {
     "data": {
      "text/html": [
       "<div>\n",
       "<style scoped>\n",
       "    .dataframe tbody tr th:only-of-type {\n",
       "        vertical-align: middle;\n",
       "    }\n",
       "\n",
       "    .dataframe tbody tr th {\n",
       "        vertical-align: top;\n",
       "    }\n",
       "\n",
       "    .dataframe thead th {\n",
       "        text-align: right;\n",
       "    }\n",
       "</style>\n",
       "<table border=\"1\" class=\"dataframe\">\n",
       "  <thead>\n",
       "    <tr style=\"text-align: right;\">\n",
       "      <th></th>\n",
       "      <th>country</th>\n",
       "      <th>en</th>\n",
       "      <th>gender</th>\n",
       "      <th>loan_amount</th>\n",
       "      <th>nonpayment</th>\n",
       "      <th>sector</th>\n",
       "      <th>status</th>\n",
       "      <th>Topic_0</th>\n",
       "      <th>Topic_1</th>\n",
       "      <th>Topic_2</th>\n",
       "      <th>Topic_3</th>\n",
       "      <th>Dominant_Topic</th>\n",
       "      <th>Perc_Dominant_Topic</th>\n",
       "    </tr>\n",
       "  </thead>\n",
       "  <tbody>\n",
       "    <tr>\n",
       "      <th>0</th>\n",
       "      <td>Dominican Republic</td>\n",
       "      <td>group woman look receive small loan take small...</td>\n",
       "      <td>F</td>\n",
       "      <td>1225</td>\n",
       "      <td>partner</td>\n",
       "      <td>Retail</td>\n",
       "      <td>0</td>\n",
       "      <td>0.264636</td>\n",
       "      <td>0.001636</td>\n",
       "      <td>0.625594</td>\n",
       "      <td>0.108135</td>\n",
       "      <td>Topic 2</td>\n",
       "      <td>0.63</td>\n",
       "    </tr>\n",
       "    <tr>\n",
       "      <th>1</th>\n",
       "      <td>Dominican Republic</td>\n",
       "      <td>walk forward group entrepreneur seek second lo...</td>\n",
       "      <td>F</td>\n",
       "      <td>1975</td>\n",
       "      <td>lender</td>\n",
       "      <td>Clothing</td>\n",
       "      <td>0</td>\n",
       "      <td>0.344405</td>\n",
       "      <td>0.001467</td>\n",
       "      <td>0.289807</td>\n",
       "      <td>0.364321</td>\n",
       "      <td>Topic 3</td>\n",
       "      <td>0.36</td>\n",
       "    </tr>\n",
       "    <tr>\n",
       "      <th>2</th>\n",
       "      <td>Dominican Republic</td>\n",
       "      <td>group people hope start business group look re...</td>\n",
       "      <td>F</td>\n",
       "      <td>2175</td>\n",
       "      <td>partner</td>\n",
       "      <td>Clothing</td>\n",
       "      <td>0</td>\n",
       "      <td>0.258666</td>\n",
       "      <td>0.002080</td>\n",
       "      <td>0.523707</td>\n",
       "      <td>0.215546</td>\n",
       "      <td>Topic 2</td>\n",
       "      <td>0.52</td>\n",
       "    </tr>\n",
       "    <tr>\n",
       "      <th>3</th>\n",
       "      <td>Dominican Republic</td>\n",
       "      <td>vive live group woman look receive loan young ...</td>\n",
       "      <td>F</td>\n",
       "      <td>1425</td>\n",
       "      <td>partner</td>\n",
       "      <td>Clothing</td>\n",
       "      <td>0</td>\n",
       "      <td>0.176977</td>\n",
       "      <td>0.001708</td>\n",
       "      <td>0.622891</td>\n",
       "      <td>0.198424</td>\n",
       "      <td>Topic 2</td>\n",
       "      <td>0.62</td>\n",
       "    </tr>\n",
       "    <tr>\n",
       "      <th>4</th>\n",
       "      <td>Dominican Republic</td>\n",
       "      <td>vive large group people hope take loan many se...</td>\n",
       "      <td>F</td>\n",
       "      <td>4025</td>\n",
       "      <td>partner</td>\n",
       "      <td>Food</td>\n",
       "      <td>0</td>\n",
       "      <td>0.315186</td>\n",
       "      <td>0.001597</td>\n",
       "      <td>0.420663</td>\n",
       "      <td>0.262555</td>\n",
       "      <td>Topic 2</td>\n",
       "      <td>0.42</td>\n",
       "    </tr>\n",
       "  </tbody>\n",
       "</table>\n",
       "</div>"
      ],
      "text/plain": [
       "              country                                                 en  \\\n",
       "0  Dominican Republic  group woman look receive small loan take small...   \n",
       "1  Dominican Republic  walk forward group entrepreneur seek second lo...   \n",
       "2  Dominican Republic  group people hope start business group look re...   \n",
       "3  Dominican Republic  vive live group woman look receive loan young ...   \n",
       "4  Dominican Republic  vive large group people hope take loan many se...   \n",
       "\n",
       "  gender  loan_amount nonpayment    sector  status   Topic_0   Topic_1  \\\n",
       "0      F         1225    partner    Retail       0  0.264636  0.001636   \n",
       "1      F         1975     lender  Clothing       0  0.344405  0.001467   \n",
       "2      F         2175    partner  Clothing       0  0.258666  0.002080   \n",
       "3      F         1425    partner  Clothing       0  0.176977  0.001708   \n",
       "4      F         4025    partner      Food       0  0.315186  0.001597   \n",
       "\n",
       "    Topic_2   Topic_3 Dominant_Topic  Perc_Dominant_Topic  \n",
       "0  0.625594  0.108135        Topic 2                 0.63  \n",
       "1  0.289807  0.364321        Topic 3                 0.36  \n",
       "2  0.523707  0.215546        Topic 2                 0.52  \n",
       "3  0.622891  0.198424        Topic 2                 0.62  \n",
       "4  0.420663  0.262555        Topic 2                 0.42  "
      ]
     },
     "execution_count": 12,
     "metadata": {},
     "output_type": "execute_result"
    }
   ],
   "source": [
    "lda_results = assign_model(lda)\n",
    "lda_results.head()"
   ]
  },
  {
   "cell_type": "code",
   "execution_count": 19,
   "id": "3b5095e3-9938-46aa-9a36-8c5119c14665",
   "metadata": {},
   "outputs": [
    {
     "data": {
      "text/html": [
       "<div>\n",
       "<style scoped>\n",
       "    .dataframe tbody tr th:only-of-type {\n",
       "        vertical-align: middle;\n",
       "    }\n",
       "\n",
       "    .dataframe tbody tr th {\n",
       "        vertical-align: top;\n",
       "    }\n",
       "\n",
       "    .dataframe thead th {\n",
       "        text-align: right;\n",
       "    }\n",
       "</style>\n",
       "<table border=\"1\" class=\"dataframe\">\n",
       "  <thead>\n",
       "    <tr style=\"text-align: right;\">\n",
       "      <th></th>\n",
       "      <th>country</th>\n",
       "      <th>en</th>\n",
       "      <th>gender</th>\n",
       "      <th>loan_amount</th>\n",
       "      <th>nonpayment</th>\n",
       "      <th>sector</th>\n",
       "      <th>status</th>\n",
       "      <th>Topic_0</th>\n",
       "      <th>Topic_1</th>\n",
       "      <th>Topic_2</th>\n",
       "      <th>Topic_3</th>\n",
       "      <th>Dominant_Topic</th>\n",
       "      <th>Perc_Dominant_Topic</th>\n",
       "    </tr>\n",
       "  </thead>\n",
       "  <tbody>\n",
       "    <tr>\n",
       "      <th>0</th>\n",
       "      <td>Dominican Republic</td>\n",
       "      <td>group woman look receive small loan take small...</td>\n",
       "      <td>F</td>\n",
       "      <td>1225</td>\n",
       "      <td>partner</td>\n",
       "      <td>Retail</td>\n",
       "      <td>0</td>\n",
       "      <td>0.011173</td>\n",
       "      <td>0.006520</td>\n",
       "      <td>0.000838</td>\n",
       "      <td>0.020552</td>\n",
       "      <td>Topic 3</td>\n",
       "      <td>0.53</td>\n",
       "    </tr>\n",
       "    <tr>\n",
       "      <th>1</th>\n",
       "      <td>Dominican Republic</td>\n",
       "      <td>walk forward group entrepreneur seek second lo...</td>\n",
       "      <td>F</td>\n",
       "      <td>1975</td>\n",
       "      <td>lender</td>\n",
       "      <td>Clothing</td>\n",
       "      <td>0</td>\n",
       "      <td>0.019245</td>\n",
       "      <td>0.004134</td>\n",
       "      <td>0.001459</td>\n",
       "      <td>0.015899</td>\n",
       "      <td>Topic 0</td>\n",
       "      <td>0.47</td>\n",
       "    </tr>\n",
       "    <tr>\n",
       "      <th>2</th>\n",
       "      <td>Dominican Republic</td>\n",
       "      <td>group people hope start business group look re...</td>\n",
       "      <td>F</td>\n",
       "      <td>2175</td>\n",
       "      <td>partner</td>\n",
       "      <td>Clothing</td>\n",
       "      <td>0</td>\n",
       "      <td>0.028244</td>\n",
       "      <td>0.004027</td>\n",
       "      <td>0.004662</td>\n",
       "      <td>0.016530</td>\n",
       "      <td>Topic 0</td>\n",
       "      <td>0.53</td>\n",
       "    </tr>\n",
       "    <tr>\n",
       "      <th>3</th>\n",
       "      <td>Dominican Republic</td>\n",
       "      <td>vive live group woman look receive loan young ...</td>\n",
       "      <td>F</td>\n",
       "      <td>1425</td>\n",
       "      <td>partner</td>\n",
       "      <td>Clothing</td>\n",
       "      <td>0</td>\n",
       "      <td>0.013371</td>\n",
       "      <td>0.000000</td>\n",
       "      <td>0.000000</td>\n",
       "      <td>0.025130</td>\n",
       "      <td>Topic 3</td>\n",
       "      <td>0.65</td>\n",
       "    </tr>\n",
       "    <tr>\n",
       "      <th>4</th>\n",
       "      <td>Dominican Republic</td>\n",
       "      <td>vive large group people hope take loan many se...</td>\n",
       "      <td>F</td>\n",
       "      <td>4025</td>\n",
       "      <td>partner</td>\n",
       "      <td>Food</td>\n",
       "      <td>0</td>\n",
       "      <td>0.025329</td>\n",
       "      <td>0.003603</td>\n",
       "      <td>0.000000</td>\n",
       "      <td>0.013548</td>\n",
       "      <td>Topic 0</td>\n",
       "      <td>0.60</td>\n",
       "    </tr>\n",
       "  </tbody>\n",
       "</table>\n",
       "</div>"
      ],
      "text/plain": [
       "              country                                                 en  \\\n",
       "0  Dominican Republic  group woman look receive small loan take small...   \n",
       "1  Dominican Republic  walk forward group entrepreneur seek second lo...   \n",
       "2  Dominican Republic  group people hope start business group look re...   \n",
       "3  Dominican Republic  vive live group woman look receive loan young ...   \n",
       "4  Dominican Republic  vive large group people hope take loan many se...   \n",
       "\n",
       "  gender  loan_amount nonpayment    sector  status   Topic_0   Topic_1  \\\n",
       "0      F         1225    partner    Retail       0  0.011173  0.006520   \n",
       "1      F         1975     lender  Clothing       0  0.019245  0.004134   \n",
       "2      F         2175    partner  Clothing       0  0.028244  0.004027   \n",
       "3      F         1425    partner  Clothing       0  0.013371  0.000000   \n",
       "4      F         4025    partner      Food       0  0.025329  0.003603   \n",
       "\n",
       "    Topic_2   Topic_3 Dominant_Topic  Perc_Dominant_Topic  \n",
       "0  0.000838  0.020552        Topic 3                 0.53  \n",
       "1  0.001459  0.015899        Topic 0                 0.47  \n",
       "2  0.004662  0.016530        Topic 0                 0.53  \n",
       "3  0.000000  0.025130        Topic 3                 0.65  \n",
       "4  0.000000  0.013548        Topic 0                 0.60  "
      ]
     },
     "execution_count": 19,
     "metadata": {},
     "output_type": "execute_result"
    }
   ],
   "source": [
    "nmf_results = assign_model(nmf)\n",
    "nmf_results.head()"
   ]
  },
  {
   "cell_type": "markdown",
   "id": "b1c27ba2-1008-41b5-83b8-ca7a1a270764",
   "metadata": {
    "tags": []
   },
   "source": [
    "# Plot Model\n",
    "\n",
    "The `plot_model()` function provides tools to further analyze the performance of a model.\n",
    "\n",
    "- Word Token Frequency - `‘frequency’`\n",
    "- Word Distribution Plot - `‘distribution’`\n",
    "- Bigram Frequency Plot - `‘bigram’`\n",
    "- Trigram Frequency Plot - `‘trigram’`\n",
    "- Sentiment Polarity Plot - `‘sentiment’`\n",
    "- Part of Speech Frequency - `‘pos’`\n",
    "- t-SNE (3d) Dimension Plot - `‘tsne’`\n",
    "- Topic Model (pyLDAvis) - `‘topic_model’`\n",
    "- Topic Infer Distribution - `‘topic_distribution’`\n",
    "- Wordcloud - `‘wordcloud’`\n",
    "- UMAP Dimensionality Plot - `‘umap’`"
   ]
  },
  {
   "cell_type": "code",
   "execution_count": 21,
   "id": "6bf2e598-4542-4f23-a25e-adf3e4afe2aa",
   "metadata": {},
   "outputs": [
    {
     "data": {
      "text/html": [
       "        <script type=\"text/javascript\">\n",
       "        window.PlotlyConfig = {MathJaxConfig: 'local'};\n",
       "        if (window.MathJax && window.MathJax.Hub && window.MathJax.Hub.Config) {window.MathJax.Hub.Config({SVG: {font: \"STIX-Web\"}});}\n",
       "        if (typeof require !== 'undefined') {\n",
       "        require.undef(\"plotly\");\n",
       "        requirejs.config({\n",
       "            paths: {\n",
       "                'plotly': ['https://cdn.plot.ly/plotly-2.14.0.min']\n",
       "            }\n",
       "        });\n",
       "        require(['plotly'], function(Plotly) {\n",
       "            window._Plotly = Plotly;\n",
       "        });\n",
       "        }\n",
       "        </script>\n",
       "        "
      ]
     },
     "metadata": {},
     "output_type": "display_data"
    },
    {
     "data": {
      "text/html": [
       "\n",
       "<link rel=\"stylesheet\" type=\"text/css\" href=\"https://cdn.jsdelivr.net/gh/bmabey/pyLDAvis@3.2.2/pyLDAvis/js/ldavis.v1.0.0.css\">\n",
       "\n",
       "\n",
       "<div id=\"ldavis_el294841400162324389926722233118\"></div>\n",
       "<script type=\"text/javascript\">\n",
       "\n",
       "var ldavis_el294841400162324389926722233118_data = {\"mdsDat\": {\"x\": [-0.16468845618433475, 0.07502853108697549, 0.2320541375860067, -0.14239421248864748], \"y\": [0.13900282469686812, 0.23772509512522552, -0.05015990126377193, -0.32656801855832174], \"topics\": [1, 2, 3, 4], \"cluster\": [1, 1, 1, 1], \"Freq\": [36.75439587828548, 29.16203752528373, 28.165807313791646, 5.917759282639149]}, \"tinfo\": {\"Term\": [\"farm\", \"farmer\", \"farming\", \"stock\", \"group\", \"also\", \"business\", \"use\", \"clothe\", \"member\", \"fee\", \"water\", \"request\", \"woman\", \"cattle\", \"crop\", \"school\", \"purchase\", \"milk\", \"customer\", \"loan\", \"child\", \"plant\", \"land\", \"enable\", \"grow\", \"need\", \"food\", \"usd\", \"pay\", \"fish\", \"fruit\", \"basic\", \"store\", \"machine\", \"little\", \"serve\", \"bicycle\", \"equipment\", \"grocery\", \"food\", \"bag\", \"sister\", \"wish\", \"brother\", \"furniture\", \"flour\", \"egg\", \"general\", \"transportation\", \"buying\", \"clinic\", \"repair\", \"initial\", \"fresh\", \"include\", \"city\", \"carry\", \"moment\", \"facility\", \"home\", \"open\", \"supply\", \"potato\", \"wife\", \"sack\", \"service\", \"begin\", \"help\", \"client\", \"work\", \"use\", \"business\", \"able\", \"product\", \"improve\", \"year\", \"old\", \"need\", \"also\", \"make\", \"sell\", \"buy\", \"sale\", \"loan\", \"provide\", \"well\", \"live\", \"purchase\", \"child\", \"increase\", \"family\", \"start\", \"husband\", \"school\", \"expand\", \"clothe\", \"operate\", \"add\", \"pemci\", \"retail\", \"shoe\", \"tailor\", \"stock\", \"fund\", \"rise\", \"stall\", \"cater\", \"thus\", \"clothing\", \"salon\", \"grade\", \"boost\", \"worth\", \"girl\", \"wholesale\", \"bale\", \"gain\", \"follow\", \"children\", \"many_communities_remain\", \"risk_making\", \"risk_willing_accept_additional\", \"kenya_security_situation\", \"unsettled_affecting_many\", \"boy\", \"supplement\", \"unable\", \"primary\", \"request\", \"man\", \"cereal\", \"support\", \"customer\", \"premise\", \"school\", \"therefore\", \"business\", \"purchase\", \"plan\", \"family\", \"increase\", \"shop\", \"expand\", \"meet\", \"husband\", \"good\", \"child\", \"loan\", \"year\", \"mother\", \"income\", \"sell\", \"would\", \"old\", \"demand\", \"start\", \"buy\", \"need\", \"pay\", \"use\", \"fee\", \"usd\", \"dairy_cow\", \"apply\", \"college\", \"join\", \"steer\", \"skill\", \"church\", \"within_period_month\", \"challenge\", \"average\", \"back\", \"weec\", \"project\", \"period\", \"benefit\", \"feel\", \"tea\", \"change\", \"focus\", \"utilize\", \"monthly_basis\", \"meeting\", \"bead\", \"village\", \"aged\", \"approve\", \"form\", \"return\", \"educate\", \"milk\", \"level\", \"bear\", \"group\", \"cow\", \"dairy\", \"member\", \"train\", \"intend\", \"lack\", \"woman\", \"training\", \"secondary\", \"enable\", \"receive\", \"local\", \"first\", \"month\", \"child\", \"marry\", \"loan\", \"pay\", \"get\", \"vegetable\", \"repay\", \"take\", \"income\", \"school\", \"buy\", \"sell\", \"market\", \"able\", \"also\", \"year\", \"start\", \"small\", \"business\", \"married\", \"farm\", \"farmer\", \"farming\", \"crop\", \"plant\", \"cattle\", \"harvest\", \"seed\", \"fertilizer\", \"livestock\", \"cultivate\", \"pig\", \"water_pump\", \"bull\", \"maize_bean\", \"organic\", \"agriculture\", \"manure\", \"st_emmanuel_ack_church\", \"farm_produce_consume\", \"horticultural\", \"water_tank_storage\", \"irrigation\", \"weithaga\", \"nelly\", \"dirty\", \"bore_holes_time\", \"residential_location_conclude\", \"pesticide\", \"seeds_fertilizer\", \"acre\", \"seedling\", \"land\", \"input\", \"yield\", \"production\", \"rice\", \"water\", \"agricultural\", \"also\", \"purity\", \"use\", \"loan\", \"member\", \"grow\", \"group\", \"buy\", \"small\", \"maize\", \"income\", \"area\", \"activity\"], \"Freq\": [3162.0, 2214.0, 1354.0, 2992.0, 3110.0, 4678.0, 13172.0, 3950.0, 1968.0, 1884.0, 1615.0, 871.0, 2192.0, 2020.0, 601.0, 581.0, 6279.0, 3135.0, 1218.0, 2378.0, 11862.0, 8767.0, 451.0, 466.0, 1555.0, 1567.0, 2771.0, 1178.0, 914.0, 2258.0, 813.772297323391, 667.3008169180846, 724.4653852237818, 577.5423732172222, 472.19110649569785, 463.64250266189146, 456.25895201461833, 433.5029200025702, 392.8594620896342, 384.3192789560528, 1175.794737947232, 405.45478134777665, 348.0356575501431, 333.4939427454024, 343.21146873611565, 289.25323376540933, 270.2007357124471, 296.27110981575026, 266.5435345701397, 273.94197316713496, 276.6985197306491, 243.0710223484082, 240.5964554491848, 257.0735468211753, 279.36469549107295, 737.3126427291961, 271.77885838298965, 245.48349606624288, 243.255936373619, 223.13842836314788, 1181.579076242318, 819.677787494687, 1202.3785092466844, 344.6130222195082, 974.0051743125896, 371.5669629491211, 1505.6806761638036, 502.0671819277085, 2104.8370144422897, 1204.8437261341717, 2450.58899326385, 2759.1284564100883, 7059.16433664949, 3138.372822099469, 947.4869479229965, 883.5811159831326, 4134.637548490571, 2665.723015028002, 1788.6796244925167, 2586.884019516182, 1740.9037576268554, 2882.104059047093, 2583.2565942733186, 944.1686609992036, 3879.5419179452147, 996.9739617641059, 1045.2206292207245, 1179.7256877090156, 1429.7035049338508, 2302.1100482697734, 1399.4229703734663, 1516.4720690196948, 1360.4501490403015, 1010.5189235935668, 968.2278911987731, 949.3800123681698, 1967.5137160852976, 844.4304049337862, 670.4886510721915, 662.4296966122088, 531.9673771327244, 500.5130531812472, 505.1219319724706, 2986.0634994399134, 441.3158918114226, 494.4121822646302, 422.22353896348886, 447.88983633810636, 426.6505798036961, 389.34782729460943, 384.8327867574854, 402.96289120955004, 369.8028357867479, 328.06913000222863, 315.2734203104618, 303.34852841291104, 285.5320507876487, 288.60060383061654, 279.1193286879086, 274.15784919590635, 261.60564345343977, 261.60564345343977, 261.60564345343977, 255.7513763386478, 255.7513763386478, 260.0323027710126, 311.47507771532713, 297.0959452965137, 994.9195172713171, 1902.091539219587, 424.4613014341624, 593.6399964609958, 976.6962366695759, 1620.6007330632617, 478.02572980992164, 3261.037873867369, 742.6978196104386, 5042.506386668963, 1704.805969724507, 917.4213984126985, 2059.3715556648804, 1633.4501334045838, 1139.1238140453243, 1265.2155822301256, 872.4132251097309, 1223.1225945092885, 995.807700258803, 2652.105010788486, 3113.494765063283, 2409.5282484453614, 1022.1602989632738, 1460.2215863889312, 1813.9263161970855, 981.9408861849332, 1408.2905696241373, 827.4801103717807, 1223.0506057011405, 1528.31974856622, 982.1235066229945, 909.1587565557483, 855.71314582822, 1614.0719888033952, 913.0949280858559, 816.04512689139, 682.0603183483012, 607.1064916821753, 590.9157605253354, 562.1389046225564, 467.4724956500587, 402.4093906278427, 373.117429004404, 381.61910053414624, 361.7878645653551, 338.1260221304671, 284.7152183463794, 287.6492368121518, 271.0069124903568, 261.3646019682096, 252.87964426891602, 235.26156652553271, 223.6372137186676, 226.45603755823527, 215.01840003812924, 193.1715633198326, 192.00067956119844, 180.49512575440875, 183.62096085866847, 224.8012084724038, 172.55849796395353, 189.2914839156079, 179.17640453201548, 641.0370790044234, 1187.4112080725636, 399.4666519027058, 760.9202979941517, 2926.2713873530192, 676.617016182869, 607.5419814348373, 1676.8578562276402, 447.9263249598924, 1089.7787191473633, 681.1776536954287, 1736.8274286875333, 467.4944125685948, 550.9461029178738, 1273.216583626909, 496.17252606783654, 975.6776134669084, 873.407225531179, 773.7866918760651, 3812.4592575490274, 1403.180654982224, 4402.259929441896, 1330.9070290993018, 1123.7819171625863, 685.1188039827359, 1033.519093831494, 682.3595395146277, 1547.3270073575525, 2049.314202369623, 1700.1621098935223, 1426.7897689154881, 905.5517874654572, 1185.98445737041, 1099.812482112382, 1217.3975058141332, 937.696174994548, 814.6765112516664, 1070.3371915695707, 765.3051350779236, 3161.629398974848, 2214.1743696220738, 1353.4018335788082, 580.6744816067071, 451.1628682984863, 600.3675641530658, 326.1903329193767, 278.3556658779716, 236.77723031015967, 218.80789710093373, 153.1018688000287, 244.33972187495158, 109.60461943465207, 131.17890754603505, 132.36671208699767, 96.38935035166107, 80.93500509461644, 61.9764678825866, 69.36021346654178, 76.285166706695, 78.09321393823419, 52.95826045090122, 50.136522336342026, 67.48790611438062, 75.32588195222097, 34.662612614707726, 34.49347023011489, 34.49347023011489, 33.10950192994512, 30.799841613704793, 79.56355658605236, 111.16297316385052, 414.48845342426836, 90.35063956958967, 84.64688512430146, 295.79411106539305, 264.6414983675325, 453.96720390271355, 74.94109073763174, 488.84179796455953, 79.09437586882537, 319.54072348631735, 466.84678378307126, 207.48099123943626, 191.67545666702898, 183.89753918560342, 213.28604606685303, 146.31175676907645, 122.92694800391024, 146.07013089830212, 115.19465142165272, 111.8716544408866], \"Total\": [3162.0, 2214.0, 1354.0, 2992.0, 3110.0, 4678.0, 13172.0, 3950.0, 1968.0, 1884.0, 1615.0, 871.0, 2192.0, 2020.0, 601.0, 581.0, 6279.0, 3135.0, 1218.0, 2378.0, 11862.0, 8767.0, 451.0, 466.0, 1555.0, 1567.0, 2771.0, 1178.0, 914.0, 2258.0, 814.7364623591966, 668.2689475637757, 725.5366206897962, 578.4812811261154, 473.1485510114087, 464.5980868112803, 457.2116348498266, 434.495081101182, 393.8328424367629, 385.27233175160524, 1178.7361723777815, 406.503289055331, 348.99466755922435, 334.4503577082709, 344.19983625890876, 290.1981881452059, 271.1583229896068, 297.32179127592855, 267.5030285179548, 274.93979941827104, 277.737240796153, 244.01645707830514, 241.53373819841272, 258.08016482379367, 280.46714971526325, 740.3068216976252, 272.89100689971883, 246.4984081608546, 244.27364338103857, 224.0887845765431, 1188.0352923371422, 827.6451476516262, 1220.4777850476232, 346.155565833671, 990.0672450906001, 379.5218717440555, 1665.1612994145155, 523.3680686426953, 2421.810818093507, 1377.3037340503424, 3177.5422889179727, 3950.293579835717, 13172.52066610227, 4982.44366241787, 1200.9239016354286, 1103.3245527041536, 7762.0942135307905, 4487.568488836075, 2771.543985224612, 4678.106314233049, 2918.443058041859, 6123.344500037456, 6025.024498799914, 1365.8241915282572, 11862.143396233467, 1486.8300180744197, 1752.0631447357332, 2153.0626020151444, 3135.290745230367, 8767.202449988663, 3124.1208785826543, 4211.22145749709, 3521.7131052850036, 2243.905671666856, 6279.106149370965, 2215.3397638305373, 1968.5673376570428, 845.4994598486635, 671.5807768765825, 663.5683737544788, 533.0372292439388, 501.55433055862704, 506.1771731776582, 2992.4912493084926, 442.3877148241351, 495.6179239784257, 423.2774361507848, 449.0113278504135, 427.74984442791214, 390.3965168463193, 385.8958369115575, 404.08330821115027, 370.9110096413731, 329.1428566703969, 316.34872205636617, 304.4211784795556, 286.5887582577312, 289.68486564375945, 280.2039554652293, 275.24864043584887, 262.6666140948767, 262.6666140948767, 262.6666140948767, 256.8118650084962, 256.8118650084962, 261.11673817298595, 312.8337158343571, 298.5309965389718, 1077.4503413293396, 2192.413050997371, 455.6792492835437, 672.536278869409, 1201.648145748305, 2378.4923639706526, 537.2332251949629, 6279.106149370965, 959.2616726817855, 13172.52066610227, 3135.290745230367, 1367.7571711517219, 4211.22145749709, 3124.1208785826543, 1873.4837521649067, 2215.3397638305373, 1318.848734952276, 2243.905671666856, 1668.7160927313082, 8767.202449988663, 11862.143396233467, 7762.0942135307905, 1847.2068333887921, 3667.122924376716, 6123.344500037456, 1884.1839762113163, 4487.568488836075, 1424.0272145318554, 3521.7131052850036, 6025.024498799914, 2771.543985224612, 2258.4494413457246, 3950.293579835717, 1615.2151271354883, 914.1782121954285, 817.1320918180412, 683.1561134752592, 608.1874839379122, 591.9980639341699, 563.1902948300979, 468.5858546256062, 403.4857707019031, 374.21273059637133, 382.7620758933212, 362.9457393952793, 339.23351312643194, 285.77617760683665, 288.72438544023913, 272.1055088363996, 262.4358679694778, 253.95408601674043, 236.377635685758, 224.7085536893583, 227.67263668327502, 216.20249822304802, 194.2364615530775, 193.1330423865906, 181.56163147873028, 184.72017005340794, 226.17540947190992, 173.64241374694797, 190.50620673789928, 180.3323189722828, 652.1765655986246, 1218.5772287235272, 406.8043980454389, 785.8738454551475, 3110.7153736903583, 711.786265279556, 642.9735310599985, 1884.8872880238414, 470.3957820978669, 1211.4645296296826, 734.9425733555618, 2020.8649809638582, 496.20034548213556, 605.9518573548528, 1555.6014110224235, 547.431317272896, 1300.7560317244884, 1135.1080875333887, 997.4177476772692, 8767.202449988663, 2348.3835304382415, 11862.143396233467, 2258.4494413457246, 1768.6990212715452, 868.9943062917206, 1698.6529863586345, 892.4253794495988, 3667.122924376716, 6279.106149370965, 6025.024498799914, 6123.344500037456, 1857.0447221690613, 4982.44366241787, 4678.106314233049, 7762.0942135307905, 3521.7131052850036, 1988.6139476931373, 13172.52066610227, 1525.7010934855252, 3162.430999295536, 2214.9530124154376, 1354.2540748107215, 581.4177315677701, 451.9135945228896, 601.452045072943, 326.9750531300758, 279.10637006073637, 237.51514995366483, 219.572294245864, 153.84001338206483, 245.87222850147646, 110.37358528229058, 132.1142841276216, 133.34411251669832, 97.15269621918232, 81.69105897344723, 62.73215170564459, 70.24676120748602, 77.29927478144505, 79.17061112109606, 53.72715927922463, 50.88130030230815, 68.56307784046935, 76.7634099596069, 35.40102742201196, 35.25601229504454, 35.25601229504454, 33.85150249862441, 31.541986540130893, 82.76961137936087, 117.61877695800312, 466.23112699544185, 98.27351679224607, 92.21550174866911, 416.22164695001334, 372.0330693509984, 871.6824876100052, 84.8451777451667, 4678.106314233049, 96.4213416129688, 3950.293579835717, 11862.143396233467, 1884.8872880238414, 1567.0723199660968, 3110.7153736903583, 6025.024498799914, 1988.6139476931373, 783.1640339065893, 3667.122924376716, 1329.8246638268124, 454.78658394046306], \"Category\": [\"Default\", \"Default\", \"Default\", \"Default\", \"Default\", \"Default\", \"Default\", \"Default\", \"Default\", \"Default\", \"Default\", \"Default\", \"Default\", \"Default\", \"Default\", \"Default\", \"Default\", \"Default\", \"Default\", \"Default\", \"Default\", \"Default\", \"Default\", \"Default\", \"Default\", \"Default\", \"Default\", \"Default\", \"Default\", \"Default\", \"Topic1\", \"Topic1\", \"Topic1\", \"Topic1\", \"Topic1\", \"Topic1\", \"Topic1\", \"Topic1\", \"Topic1\", \"Topic1\", \"Topic1\", \"Topic1\", \"Topic1\", \"Topic1\", \"Topic1\", \"Topic1\", \"Topic1\", \"Topic1\", \"Topic1\", \"Topic1\", \"Topic1\", \"Topic1\", \"Topic1\", \"Topic1\", \"Topic1\", \"Topic1\", \"Topic1\", \"Topic1\", \"Topic1\", \"Topic1\", \"Topic1\", \"Topic1\", \"Topic1\", \"Topic1\", \"Topic1\", \"Topic1\", \"Topic1\", \"Topic1\", \"Topic1\", \"Topic1\", \"Topic1\", \"Topic1\", \"Topic1\", \"Topic1\", \"Topic1\", \"Topic1\", \"Topic1\", \"Topic1\", \"Topic1\", \"Topic1\", \"Topic1\", \"Topic1\", \"Topic1\", \"Topic1\", \"Topic1\", \"Topic1\", \"Topic1\", \"Topic1\", \"Topic1\", \"Topic1\", \"Topic1\", \"Topic1\", \"Topic1\", \"Topic1\", \"Topic1\", \"Topic1\", \"Topic2\", \"Topic2\", \"Topic2\", \"Topic2\", \"Topic2\", \"Topic2\", \"Topic2\", \"Topic2\", \"Topic2\", \"Topic2\", \"Topic2\", \"Topic2\", \"Topic2\", \"Topic2\", \"Topic2\", \"Topic2\", \"Topic2\", \"Topic2\", \"Topic2\", \"Topic2\", \"Topic2\", \"Topic2\", \"Topic2\", \"Topic2\", \"Topic2\", \"Topic2\", \"Topic2\", \"Topic2\", \"Topic2\", \"Topic2\", \"Topic2\", \"Topic2\", \"Topic2\", \"Topic2\", \"Topic2\", \"Topic2\", \"Topic2\", \"Topic2\", \"Topic2\", \"Topic2\", \"Topic2\", \"Topic2\", \"Topic2\", \"Topic2\", \"Topic2\", \"Topic2\", \"Topic2\", \"Topic2\", \"Topic2\", \"Topic2\", \"Topic2\", \"Topic2\", \"Topic2\", \"Topic2\", \"Topic2\", \"Topic2\", \"Topic2\", \"Topic2\", \"Topic2\", \"Topic2\", \"Topic2\", \"Topic2\", \"Topic2\", \"Topic2\", \"Topic2\", \"Topic3\", \"Topic3\", \"Topic3\", \"Topic3\", \"Topic3\", \"Topic3\", \"Topic3\", \"Topic3\", \"Topic3\", \"Topic3\", \"Topic3\", \"Topic3\", \"Topic3\", \"Topic3\", \"Topic3\", \"Topic3\", \"Topic3\", \"Topic3\", \"Topic3\", \"Topic3\", \"Topic3\", \"Topic3\", \"Topic3\", \"Topic3\", \"Topic3\", \"Topic3\", \"Topic3\", \"Topic3\", \"Topic3\", \"Topic3\", \"Topic3\", \"Topic3\", \"Topic3\", \"Topic3\", \"Topic3\", \"Topic3\", \"Topic3\", \"Topic3\", \"Topic3\", \"Topic3\", \"Topic3\", \"Topic3\", \"Topic3\", \"Topic3\", \"Topic3\", \"Topic3\", \"Topic3\", \"Topic3\", \"Topic3\", \"Topic3\", \"Topic3\", \"Topic3\", \"Topic3\", \"Topic3\", \"Topic3\", \"Topic3\", \"Topic3\", \"Topic3\", \"Topic3\", \"Topic3\", \"Topic3\", \"Topic3\", \"Topic3\", \"Topic3\", \"Topic3\", \"Topic3\", \"Topic3\", \"Topic3\", \"Topic3\", \"Topic4\", \"Topic4\", \"Topic4\", \"Topic4\", \"Topic4\", \"Topic4\", \"Topic4\", \"Topic4\", \"Topic4\", \"Topic4\", \"Topic4\", \"Topic4\", \"Topic4\", \"Topic4\", \"Topic4\", \"Topic4\", \"Topic4\", \"Topic4\", \"Topic4\", \"Topic4\", \"Topic4\", \"Topic4\", \"Topic4\", \"Topic4\", \"Topic4\", \"Topic4\", \"Topic4\", \"Topic4\", \"Topic4\", \"Topic4\", \"Topic4\", \"Topic4\", \"Topic4\", \"Topic4\", \"Topic4\", \"Topic4\", \"Topic4\", \"Topic4\", \"Topic4\", \"Topic4\", \"Topic4\", \"Topic4\", \"Topic4\", \"Topic4\", \"Topic4\", \"Topic4\", \"Topic4\", \"Topic4\", \"Topic4\", \"Topic4\", \"Topic4\", \"Topic4\"], \"logprob\": [30.0, 29.0, 28.0, 27.0, 26.0, 25.0, 24.0, 23.0, 22.0, 21.0, 20.0, 19.0, 18.0, 17.0, 16.0, 15.0, 14.0, 13.0, 12.0, 11.0, 10.0, 9.0, 8.0, 7.0, 6.0, 5.0, 4.0, 3.0, 2.0, 1.0, -5.2993, -5.4977, -5.4155, -5.6422, -5.8436, -5.8619, -5.8779, -5.9291, -6.0275, -6.0495, -4.9313, -5.996, -6.1487, -6.1913, -6.1626, -6.3337, -6.4018, -6.3097, -6.4154, -6.3881, -6.378, -6.5076, -6.5178, -6.4516, -6.3685, -5.398, -6.396, -6.4977, -6.5069, -6.5932, -4.9264, -5.2921, -4.9089, -6.1585, -5.1196, -6.0832, -4.684, -5.7822, -4.349, -4.9069, -4.1969, -4.0783, -3.1389, -3.9495, -5.1472, -5.217, -3.6738, -4.1127, -4.5117, -4.1428, -4.5388, -4.0347, -4.1442, -5.1507, -3.7375, -5.0962, -5.049, -4.9279, -4.7357, -4.2594, -4.7572, -4.6768, -4.7854, -5.0828, -5.1255, -5.1452, -4.1851, -5.0309, -5.2616, -5.2737, -5.493, -5.5539, -5.5448, -3.7679, -5.6798, -5.5662, -5.724, -5.665, -5.7136, -5.8051, -5.8168, -5.7707, -5.8566, -5.9764, -6.0161, -6.0547, -6.1152, -6.1045, -6.1379, -6.1559, -6.2027, -6.2027, -6.2027, -6.2254, -6.2254, -6.2088, -6.0283, -6.0755, -4.8669, -4.2189, -5.7188, -5.3833, -4.8854, -4.379, -5.5999, -3.6798, -5.1593, -3.2439, -4.3284, -4.948, -4.1394, -4.3711, -4.7316, -4.6266, -4.9983, -4.6604, -4.866, -3.8865, -3.7261, -3.9824, -4.8399, -4.4832, -4.2663, -4.88, -4.5194, -5.0512, -4.6605, -4.4377, -4.8799, -4.9571, -5.0176, -4.3483, -4.918, -5.0304, -5.2097, -5.3261, -5.3531, -5.4031, -5.5875, -5.7374, -5.8129, -5.7904, -5.8438, -5.9114, -6.0833, -6.0731, -6.1327, -6.1689, -6.2019, -6.2741, -6.3248, -6.3123, -6.3641, -6.4712, -6.4773, -6.5391, -6.5219, -6.3196, -6.5841, -6.4915, -6.5465, -5.2717, -4.6553, -5.7447, -5.1003, -3.7533, -5.2177, -5.3254, -4.3101, -5.6302, -4.7411, -5.211, -4.275, -5.5874, -5.4232, -4.5855, -5.5279, -4.8517, -4.9624, -5.0835, -3.4888, -4.4883, -3.3449, -4.5412, -4.7104, -5.2052, -4.7941, -5.2093, -4.3905, -4.1096, -4.2963, -4.4716, -4.9263, -4.6565, -4.7319, -4.6304, -4.8914, -5.032, -4.7591, -5.0945, -2.1158, -2.472, -2.9643, -3.8105, -4.0628, -3.7771, -4.3872, -4.5458, -4.7076, -4.7865, -5.1436, -4.6761, -5.4778, -5.2981, -5.2891, -5.6063, -5.781, -6.0479, -5.9354, -5.8402, -5.8168, -6.2052, -6.2599, -5.9627, -5.8528, -6.629, -6.6339, -6.6339, -6.6748, -6.7472, -5.7981, -5.4637, -4.1476, -5.671, -5.7362, -4.485, -4.5963, -4.0566, -5.858, -3.9826, -5.804, -4.4078, -4.0287, -4.8396, -4.9189, -4.9603, -4.812, -5.1889, -5.3631, -5.1906, -5.428, -5.4573], \"loglift\": [30.0, 29.0, 28.0, 27.0, 26.0, 25.0, 24.0, 23.0, 22.0, 21.0, 20.0, 19.0, 18.0, 17.0, 16.0, 15.0, 14.0, 13.0, 12.0, 11.0, 10.0, 9.0, 8.0, 7.0, 6.0, 5.0, 4.0, 3.0, 2.0, 1.0, 0.9997, 0.9995, 0.9994, 0.9993, 0.9989, 0.9989, 0.9988, 0.9986, 0.9984, 0.9984, 0.9984, 0.9983, 0.9982, 0.998, 0.998, 0.9977, 0.9974, 0.9974, 0.9973, 0.9973, 0.9972, 0.997, 0.997, 0.997, 0.997, 0.9969, 0.9968, 0.9968, 0.9967, 0.9967, 0.9955, 0.9912, 0.986, 0.9964, 0.9846, 0.9797, 0.9002, 0.9594, 0.8606, 0.8671, 0.7411, 0.642, 0.3771, 0.5387, 0.7639, 0.7788, 0.3711, 0.4801, 0.563, 0.4085, 0.4843, 0.2473, 0.154, 0.6317, -0.1167, 0.6012, 0.4843, 0.3993, 0.2157, -0.3363, 0.1978, -0.0205, 0.0498, 0.2032, -0.8686, 0.1536, 1.2318, 1.231, 1.2307, 1.2306, 1.2303, 1.2302, 1.2302, 1.2302, 1.2299, 1.2299, 1.2298, 1.2298, 1.2297, 1.2296, 1.2295, 1.2295, 1.2293, 1.229, 1.2289, 1.2288, 1.2286, 1.2286, 1.2284, 1.2283, 1.2283, 1.2283, 1.2283, 1.2282, 1.2282, 1.2281, 1.2279, 1.2275, 1.1526, 1.0903, 1.1613, 1.1075, 1.025, 0.8486, 1.1155, 0.5771, 0.9764, 0.2721, 0.623, 0.8329, 0.517, 0.5838, 0.7348, 0.6721, 0.8191, 0.6255, 0.716, 0.0366, -0.1053, 0.0625, 0.6405, 0.3115, 0.0157, 0.5806, 0.0734, 0.6894, 0.1747, -0.1395, 0.1949, 0.3224, -0.2973, 1.2664, 1.2659, 1.2657, 1.2655, 1.2653, 1.2652, 1.2652, 1.2647, 1.2644, 1.2641, 1.2641, 1.2639, 1.2638, 1.2633, 1.2633, 1.263, 1.263, 1.2628, 1.2623, 1.2623, 1.2617, 1.2616, 1.2616, 1.2612, 1.2612, 1.2611, 1.261, 1.2608, 1.2607, 1.2606, 1.2498, 1.2412, 1.2489, 1.2348, 1.2059, 1.2164, 1.2104, 1.1501, 1.2181, 1.1612, 1.1911, 1.1156, 1.2075, 1.1719, 1.0667, 1.1687, 0.9795, 1.005, 1.0132, 0.4343, 0.7521, 0.2758, 0.7382, 0.8135, 1.0293, 0.7702, 0.9987, 0.4042, 0.1473, 0.0019, -0.1896, 0.5489, -0.1683, -0.1807, -0.5855, -0.0562, 0.3747, -1.2431, 0.5771, 2.827, 2.8269, 2.8266, 2.8259, 2.8255, 2.8254, 2.8248, 2.8245, 2.8241, 2.8237, 2.8224, 2.821, 2.8202, 2.8201, 2.8199, 2.8193, 2.8179, 2.8151, 2.8145, 2.814, 2.8135, 2.8128, 2.8125, 2.8114, 2.8083, 2.8061, 2.8053, 2.8053, 2.805, 2.8034, 2.7877, 2.7708, 2.7096, 2.7432, 2.7416, 2.4857, 2.4866, 2.1748, 2.7031, 0.5686, 2.6291, 0.3126, -0.4079, 0.6206, 0.7261, -0.001, -0.5138, 0.2178, 0.9755, -0.3959, 0.381, 1.4247]}, \"token.table\": {\"Topic\": [1, 2, 3, 4, 3, 4, 1, 2, 3, 4, 2, 4, 3, 4, 1, 4, 4, 1, 2, 3, 4, 3, 4, 3, 4, 1, 3, 4, 3, 4, 3, 4, 1, 4, 2, 4, 1, 4, 3, 4, 2, 3, 4, 1, 2, 4, 3, 4, 1, 4, 2, 4, 4, 2, 4, 1, 4, 4, 1, 2, 3, 4, 1, 2, 3, 4, 1, 4, 1, 4, 2, 4, 3, 4, 2, 3, 4, 3, 4, 3, 4, 1, 2, 3, 4, 2, 4, 3, 4, 1, 4, 1, 2, 4, 1, 4, 2, 4, 2, 4, 3, 4, 3, 4, 4, 4, 1, 2, 4, 1, 3, 4, 3, 4, 1, 2, 4, 4, 3, 4, 1, 4, 1, 3, 4, 1, 4, 1, 2, 4, 1, 4, 1, 2, 3, 4, 4, 4, 4, 4, 3, 4, 3, 4, 4, 1, 3, 4, 1, 4, 1, 4, 3, 4, 2, 4, 1, 3, 4, 3, 4, 1, 4, 1, 4, 2, 4, 1, 4, 2, 4, 1, 4, 2, 3, 4, 2, 4, 1, 2, 3, 4, 2, 4, 1, 4, 3, 4, 1, 2, 3, 4, 4, 1, 2, 3, 4, 1, 3, 4, 3, 4, 1, 2, 3, 4, 1, 2, 3, 4, 1, 2, 4, 1, 2, 3, 4, 1, 2, 3, 4, 1, 4, 3, 4, 2, 3, 4, 4, 3, 4, 2, 4, 3, 4, 1, 4, 1, 3, 4, 1, 4, 1, 2, 3, 4, 4, 1, 2, 3, 4, 1, 2, 3, 4, 1, 4, 1, 3, 4, 4, 1, 2, 3, 4, 2, 3, 4, 4, 2, 4, 1, 2, 3, 4, 1, 2, 3, 4, 1, 2, 3, 4, 1, 2, 4, 3, 4, 3, 4, 1, 3, 4, 1, 4, 1, 2, 3, 4, 3, 4, 1, 2, 3, 4, 1, 2, 4, 4, 1, 2, 3, 4, 1, 2, 3, 4, 2, 4, 4, 2, 3, 4, 2, 4, 3, 4, 4, 3, 4, 1, 2, 3, 4, 4, 1, 3, 4, 1, 2, 4, 1, 2, 4, 1, 2, 4, 2, 4, 3, 4, 1, 2, 3, 4, 1, 2, 4, 1, 2, 3, 4, 2, 3, 4, 1, 4, 2, 3, 4, 1, 2, 4, 4, 2, 4, 3, 4, 1, 4, 2, 4, 2, 4, 2, 4, 1, 2, 4, 1, 2, 3, 4, 2, 4, 1, 2, 3, 4, 2, 3, 4, 4, 3, 4, 4, 1, 2, 3, 4, 1, 4, 1, 2, 4, 2, 4, 1, 2, 4, 1, 4, 3, 4, 1, 2, 3, 4, 4, 2, 4, 1, 2, 3, 4, 3, 4, 1, 2, 4, 1, 4, 2, 4, 1, 2, 4, 1, 2, 3, 4, 2, 4, 1, 2, 3, 4, 3, 4, 1, 2, 3, 4, 2, 4, 2, 3, 4, 3, 4, 1, 4, 1, 2, 4, 2, 4, 3, 4, 1, 2, 3, 4, 3, 4, 1, 3, 4, 3, 4, 1, 4, 4, 4, 3, 4, 3, 4, 1, 2, 3, 4, 2, 4, 1, 4, 1, 4, 3, 4, 2, 3, 4, 1, 2, 3, 4, 2, 4, 1, 2, 3, 4, 1, 2, 3, 4, 1, 4], \"Freq\": [0.6298114364382392, 0.1320637110185983, 0.23803580739826377, 0.0002007047279917907, 0.024163457658793755, 0.9665383063517502, 0.004397667105021338, 0.09894750986298011, 0.6508547315431581, 0.24626935788119494, 0.9976461850442855, 0.0014890241567825156, 0.994803106692039, 0.004421347140853507, 0.10607556303354784, 0.8839630252795653, 0.9915405800569699, 0.5530015408433755, 0.10752213956096555, 0.23513787975559067, 0.10452947563680348, 0.9983076877269268, 0.0014637942635292182, 0.9963003638737471, 0.005758961640888712, 0.6151186861326937, 0.2977836182256072, 0.08647756589885058, 0.9973942678129931, 0.002755232784013793, 0.9963638229163632, 0.0029478219612910153, 0.996301901864498, 0.002460004695961723, 0.9979456338018615, 0.0034893203979086064, 0.9978820907918675, 0.0013782901806517508, 0.9913988904703512, 0.005507771613724174, 0.030539252755129084, 0.9683488061105513, 0.001272468864797045, 0.959172005471959, 0.04012472532850825, 0.0019107012061194402, 0.9945286900735505, 0.0038104547512396573, 0.9988605599402247, 0.0023015220275120385, 0.9975438592608671, 0.00269606448448883, 0.9643745218678323, 0.9957232225678075, 0.003829704702183875, 0.9965141289085151, 0.002905289005564184, 0.9915657558531278, 0.5358883222833272, 0.38284244358617636, 0.08122970744342825, 7.591561443311052e-05, 0.4287119497214478, 0.25360892728392265, 0.28215652904624905, 0.0353525533452065, 0.9973455457610234, 0.0036005254359603735, 0.99392122581223, 0.004056821329845837, 0.9977476562668137, 0.002227115304166995, 0.001662642945837389, 0.9975857675024334, 0.8832237288352158, 0.11597887348341218, 0.0014869086344027204, 0.9980090088822342, 0.002612589028487524, 0.9968467880829414, 0.004450208875370274, 0.26256950414130986, 0.30249101867191736, 0.4348023239733593, 0.00011406147008744997, 0.9954635909050389, 0.0036330787989234995, 0.9963176627038954, 0.0024784021460295905, 0.9967349349110421, 0.0036644666724670667, 0.8748977950247505, 0.11471688930614986, 0.010164787660038595, 0.9958344732544865, 0.004098084252076076, 0.999711801752376, 0.000507983639101817, 0.996422824523127, 0.0025614982635555963, 0.9980475034931277, 0.0016442298245356304, 0.9511282150606073, 0.04917206429412298, 0.999281529363331, 0.9945396950793378, 0.31826883763303954, 0.6815241556184374, 0.00042043439581643266, 0.05443458915377032, 0.9456065772997815, 0.0015552739758220092, 0.9986145546976103, 0.0012237923464431498, 0.4185313271529949, 0.5807473281133, 0.000702233770390931, 0.9886718705298762, 0.9828626691172723, 0.01686659806597503, 0.9955543410718192, 0.0033633592603777673, 0.181280370409702, 0.8183330196154278, 0.0006428381929422057, 0.9978852895263639, 0.002539148319405506, 0.4283767282536774, 0.5710185049956817, 0.0004513980276645705, 0.9951412803697403, 0.004462516952330673, 0.3599905669413605, 0.4889317792429164, 0.15078760554601842, 0.00023746079613546207, 0.9998637126642029, 0.9831916303856847, 0.9995697369605153, 0.9990739737586563, 0.9992476995075924, 0.0006191125771422506, 0.9962430767242014, 0.003937719670846646, 0.9978310859169812, 0.22993405021644936, 0.7690897541722617, 0.0008809733724768175, 0.9990960729104181, 0.0012273907529612017, 0.9957282410628745, 0.0036878823743069426, 0.9926533258118239, 0.004392271353149663, 0.9957032888303439, 0.0035688289922234545, 0.9976787236687052, 0.0016967325232460973, 0.0008483662616230487, 0.9920936605494879, 0.005249172807140147, 0.9947689071010536, 0.0035654799537672174, 0.9981011424092026, 0.001496403511857875, 0.9968631253137606, 0.0022604606016185047, 0.9958711384352049, 0.0034459208942394636, 0.9976358252536338, 0.003452027077002193, 0.9981195408487831, 0.0037382754338905733, 0.3641094342535557, 0.635495347982914, 0.0005653873202694965, 0.9957365971084092, 0.003161068562248918, 0.16180104043826382, 0.5968660602833732, 0.2415030344319271, 0.0005992631127343104, 0.9973190968566704, 0.002474737213043847, 0.9966975781888601, 0.002595566609866823, 0.9406196480550313, 0.05915038114905186, 0.44414031894524036, 0.0019143979264881052, 0.43137766610198636, 0.12252146729523873, 0.9970179586462582, 0.8691843245035522, 0.0706083227981508, 0.047485129367177435, 0.013213253389127634, 0.9949199385101857, 0.005050355017818201, 0.0008417258363030335, 0.012630949614250694, 0.9852140699115541, 0.45055369874304557, 0.5450318235041985, 0.004456515318922311, 0.00044565153189223103, 0.8012148355018404, 0.14501625981933763, 0.05347474580838075, 0.0009063516238708601, 0.9955331740830887, 0.002701582561962249, 0.0013507912809811245, 0.14016437697881703, 0.3981322770215426, 0.4218565976385797, 0.03981322770215426, 0.44780597626385565, 0.5227070473473026, 0.029128194310229352, 0.00032009004736515773, 0.995814615104066, 0.003874765039315432, 0.07122977001828748, 0.9158113288065532, 0.09987911081225545, 0.8997374445070946, 0.0008254471967954996, 0.9826792889121946, 0.9983140756786649, 0.0016891947135002792, 0.9968386779619027, 0.0038939010857886825, 0.9266030091177415, 0.07211447794895785, 0.10938780584784637, 0.8879716004119294, 0.014749103079583267, 0.9808153547922872, 0.0024581838465972112, 0.9987126791343778, 0.002152398015375814, 0.5480565213921726, 0.332085095589325, 0.107289030882705, 0.013004731016085454, 0.997393595363069, 0.32709097086383215, 0.26243149286059525, 0.3710965086965436, 0.03936893901892, 0.2490859101152537, 0.0007687836731952275, 0.750332865038542, 0.0007687836731952275, 0.9975725361327779, 0.0021135011358745293, 0.18642326981197138, 0.6563120594750225, 0.15705522045803066, 0.9899199710333668, 0.5965509572655946, 0.18091838336371852, 0.222378846217904, 0.00034264845334037596, 0.9304790610207675, 0.06583578261939393, 0.002194526087313131, 0.9883289240726185, 0.9974621285724727, 0.0038071073609636367, 0.2783993265364847, 0.23370465709252294, 0.4878719339304742, 0.0005384899933007441, 0.49550990244942916, 0.0026217455156054455, 0.5014088298595414, 0.0006554363789013614, 0.22951957932502406, 0.172884877933135, 0.5974322259610552, 0.0004258248224954064, 0.3381737330294661, 0.6611827246674763, 0.0007582370695727939, 0.994133358162905, 0.005177777907098464, 0.8897083717712398, 0.10982089025441065, 0.024618874612834612, 0.9740868055144895, 0.0008206291537611537, 0.9947859975255217, 0.004093769537142065, 0.04712168006780607, 0.17745824195748244, 0.7760038377123808, 0.001002588937612895, 0.9936342458918835, 0.005148363968351728, 0.3058672097717826, 0.5532677670562156, 0.14021169439095876, 0.0005413578934013852, 0.6454885830920759, 0.3543151417531685, 0.0003608097166529211, 0.977027988197309, 0.5940856405049477, 0.31375565710088765, 0.09203202157859844, 0.00022283782464551678, 0.9907627711304553, 0.003624741845599227, 0.0048329891274656355, 0.0012082472818664089, 0.9982265395545825, 0.0011827328667708323, 0.9881352112289116, 0.4024885318922, 0.5893423937827483, 0.007970069938459407, 0.9976364549359023, 0.00150700370836239, 0.995937205236575, 0.0036750450377733396, 0.9748459466855566, 0.004067153114830108, 0.9923853600185463, 0.03216945297603502, 0.6704406449778207, 0.2968363160970504, 0.0007311239312735232, 0.9979783867226785, 0.9966617152872063, 0.002888874537064366, 0.002888874537064366, 0.10796056029288155, 0.8897439279309893, 0.0018613889705669233, 0.03712468080027585, 0.9234764349068619, 0.03898091484028965, 0.7885595404591141, 0.18569036697189278, 0.024980766857205305, 0.28830792650823267, 0.7111595520536406, 0.9974910832726006, 0.003463510705807641, 0.6705541237936572, 0.12375321843333292, 0.1755412500603255, 0.030265732769021638, 0.4560980515683977, 0.5438092153315511, 0.0003189496864114669, 0.010371147956164702, 0.020742295912329404, 0.14519607138630583, 0.8193206885370116, 0.09133565878014038, 0.9060497350989927, 0.001826713175602808, 0.9977902126535454, 0.004140208351259524, 0.39089796758512896, 0.6087176181973243, 0.0005887017584113388, 0.13227434486766687, 0.8675372549596635, 0.00045611843057816165, 0.9643745218678323, 0.998054114821567, 0.0018760415692134719, 0.992611868023016, 0.005545317698452604, 0.2876088412964433, 0.7123022705005373, 0.996735541835456, 0.002017683283067725, 0.9974621285724727, 0.0038071073609636367, 0.9974621285724727, 0.0038071073609636367, 0.9801806633449359, 0.018444259794125138, 0.0026348942563035912, 0.6911577682217893, 0.0761444998888412, 0.23282645158318752, 0.0007321586527773192, 0.9976785525370598, 0.002591372863732623, 0.15416206972340696, 0.5193414352975517, 0.32632033147031075, 0.00015925833649112287, 0.08086450995281792, 0.9093131629388301, 0.0082514806074304, 0.9960360271945939, 0.05101226313671291, 0.9437268680291887, 0.9828169814402361, 0.4706578243282525, 0.2962433356458883, 0.23304257991548102, 0.0001633094463318017, 0.9973499474696776, 0.0021871709374335037, 0.9044168877390569, 0.07626888761146097, 0.019217357508399615, 0.9988947746538054, 0.0019938019454167773, 0.3917834884619764, 0.6079583015779171, 0.0005337649706566437, 0.9971499061398823, 0.002865373293505409, 0.9966156583474478, 0.0021340806388596314, 0.2589743477347216, 0.2579686221124508, 0.4098331910753361, 0.07341797042576573, 0.9822516912373583, 0.9969820357957145, 0.002362516672501693, 0.3861756932894562, 0.3472741712448566, 0.26634764728346316, 0.00028395271565401193, 0.9978865139527006, 0.001775598779275268, 0.002005018394418525, 0.9978308209556193, 0.0003341697324030875, 0.9991680264481878, 0.001728664405619702, 0.9941383689112075, 0.0031965863952128862, 0.9848602037054676, 0.013928971267049041, 0.0008193512510028848, 0.03994513716002021, 0.8130499792779113, 0.14729769327757453, 0.000832190357500421, 0.9976743850966883, 0.00197559284177562, 0.0840406399538481, 0.15015261005087527, 0.764209552646992, 0.001120541866051308, 0.9941718865164154, 0.0042305186660273, 0.14073323665959012, 0.774554035837596, 0.08443994199575408, 0.0010424684197006676, 0.998247002453233, 0.002337814994035674, 0.0467691268443875, 0.9523894921038909, 0.0021258694020176135, 0.9411521057008477, 0.05642882004202085, 0.9965817992874823, 0.0036371598514141684, 0.003349735912161653, 0.994871565912011, 0.003349735912161653, 0.9968386779619027, 0.0038939010857886825, 0.9987111788711317, 0.0010938786186978442, 0.6984291026072903, 0.21669275528519044, 0.0040503318744895414, 0.08100663748979083, 0.9944380928392074, 0.004625293455066081, 0.21058826125215954, 0.7882675352881382, 0.0011507555259680849, 0.996101291736578, 0.005413593976829228, 0.4783851986556919, 0.5208318469776597, 0.9966152654973099, 0.9864657039571826, 0.9972839667276098, 0.003499241988517929, 0.014585109529749701, 0.9772023384932299, 0.5964396906240609, 0.2351513421407781, 0.16780217133346786, 0.0005707556848077138, 0.9953315387363858, 0.003284922570087082, 0.9837715618102993, 0.016160518469163027, 0.9956634589413835, 0.002989980357181332, 0.9967592481569544, 0.0026722768047103334, 0.14003904400630576, 0.859532930879693, 0.0004948376113297024, 0.7713508671617468, 0.10763035355745304, 0.120848116275035, 0.00031470863613290365, 0.9965277792082198, 0.003038194448805548, 0.3890278280966508, 0.5211805282277095, 0.0896940012937708, 0.0005307337354660994, 0.5327170588566056, 0.3104832193094122, 0.15678758419068659, 0.00012883121133170633, 0.07590914615503924, 0.9217539175969051], \"Term\": [\"able\", \"able\", \"able\", \"able\", \"acre\", \"acre\", \"activity\", \"activity\", \"activity\", \"activity\", \"add\", \"add\", \"aged\", \"aged\", \"agricultural\", \"agricultural\", \"agriculture\", \"also\", \"also\", \"also\", \"also\", \"apply\", \"apply\", \"approve\", \"approve\", \"area\", \"area\", \"area\", \"average\", \"average\", \"back\", \"back\", \"bag\", \"bag\", \"bale\", \"bale\", \"basic\", \"basic\", \"bead\", \"bead\", \"bear\", \"bear\", \"bear\", \"begin\", \"begin\", \"begin\", \"benefit\", \"benefit\", \"bicycle\", \"bicycle\", \"boost\", \"boost\", \"bore_holes_time\", \"boy\", \"boy\", \"brother\", \"brother\", \"bull\", \"business\", \"business\", \"business\", \"business\", \"buy\", \"buy\", \"buy\", \"buy\", \"buying\", \"buying\", \"carry\", \"carry\", \"cater\", \"cater\", \"cattle\", \"cattle\", \"cereal\", \"cereal\", \"cereal\", \"challenge\", \"challenge\", \"change\", \"change\", \"child\", \"child\", \"child\", \"child\", \"children\", \"children\", \"church\", \"church\", \"city\", \"city\", \"client\", \"client\", \"client\", \"clinic\", \"clinic\", \"clothe\", \"clothe\", \"clothing\", \"clothing\", \"college\", \"college\", \"cow\", \"cow\", \"crop\", \"cultivate\", \"customer\", \"customer\", \"customer\", \"dairy\", \"dairy\", \"dairy\", \"dairy_cow\", \"dairy_cow\", \"demand\", \"demand\", \"demand\", \"dirty\", \"educate\", \"educate\", \"egg\", \"egg\", \"enable\", \"enable\", \"enable\", \"equipment\", \"equipment\", \"expand\", \"expand\", \"expand\", \"facility\", \"facility\", \"family\", \"family\", \"family\", \"family\", \"farm\", \"farm_produce_consume\", \"farmer\", \"farming\", \"fee\", \"fee\", \"feel\", \"feel\", \"fertilizer\", \"first\", \"first\", \"first\", \"fish\", \"fish\", \"flour\", \"flour\", \"focus\", \"focus\", \"follow\", \"follow\", \"food\", \"food\", \"food\", \"form\", \"form\", \"fresh\", \"fresh\", \"fruit\", \"fruit\", \"fund\", \"fund\", \"furniture\", \"furniture\", \"gain\", \"gain\", \"general\", \"general\", \"get\", \"get\", \"get\", \"girl\", \"girl\", \"good\", \"good\", \"good\", \"good\", \"grade\", \"grade\", \"grocery\", \"grocery\", \"group\", \"group\", \"grow\", \"grow\", \"grow\", \"grow\", \"harvest\", \"help\", \"help\", \"help\", \"help\", \"home\", \"home\", \"home\", \"horticultural\", \"horticultural\", \"husband\", \"husband\", \"husband\", \"husband\", \"improve\", \"improve\", \"improve\", \"improve\", \"include\", \"include\", \"include\", \"income\", \"income\", \"income\", \"income\", \"increase\", \"increase\", \"increase\", \"increase\", \"initial\", \"initial\", \"input\", \"input\", \"intend\", \"intend\", \"intend\", \"irrigation\", \"join\", \"join\", \"kenya_security_situation\", \"kenya_security_situation\", \"lack\", \"lack\", \"land\", \"land\", \"level\", \"level\", \"level\", \"little\", \"little\", \"live\", \"live\", \"live\", \"live\", \"livestock\", \"loan\", \"loan\", \"loan\", \"loan\", \"local\", \"local\", \"local\", \"local\", \"machine\", \"machine\", \"maize\", \"maize\", \"maize\", \"maize_bean\", \"make\", \"make\", \"make\", \"make\", \"man\", \"man\", \"man\", \"manure\", \"many_communities_remain\", \"many_communities_remain\", \"market\", \"market\", \"market\", \"market\", \"married\", \"married\", \"married\", \"married\", \"marry\", \"marry\", \"marry\", \"marry\", \"meet\", \"meet\", \"meet\", \"meeting\", \"meeting\", \"member\", \"member\", \"milk\", \"milk\", \"milk\", \"moment\", \"moment\", \"month\", \"month\", \"month\", \"month\", \"monthly_basis\", \"monthly_basis\", \"mother\", \"mother\", \"mother\", \"mother\", \"need\", \"need\", \"need\", \"nelly\", \"old\", \"old\", \"old\", \"old\", \"open\", \"open\", \"open\", \"open\", \"operate\", \"operate\", \"organic\", \"pay\", \"pay\", \"pay\", \"pemci\", \"pemci\", \"period\", \"period\", \"pesticide\", \"pig\", \"pig\", \"plan\", \"plan\", \"plan\", \"plan\", \"plant\", \"potato\", \"potato\", \"potato\", \"premise\", \"premise\", \"premise\", \"primary\", \"primary\", \"primary\", \"product\", \"product\", \"product\", \"production\", \"production\", \"project\", \"project\", \"provide\", \"provide\", \"provide\", \"provide\", \"purchase\", \"purchase\", \"purchase\", \"purity\", \"purity\", \"purity\", \"purity\", \"receive\", \"receive\", \"receive\", \"repair\", \"repair\", \"repay\", \"repay\", \"repay\", \"request\", \"request\", \"request\", \"residential_location_conclude\", \"retail\", \"retail\", \"return\", \"return\", \"rice\", \"rice\", \"rise\", \"rise\", \"risk_making\", \"risk_making\", \"risk_willing_accept_additional\", \"risk_willing_accept_additional\", \"sack\", \"sack\", \"sack\", \"sale\", \"sale\", \"sale\", \"sale\", \"salon\", \"salon\", \"school\", \"school\", \"school\", \"school\", \"secondary\", \"secondary\", \"secondary\", \"seed\", \"seedling\", \"seedling\", \"seeds_fertilizer\", \"sell\", \"sell\", \"sell\", \"sell\", \"serve\", \"serve\", \"service\", \"service\", \"service\", \"shoe\", \"shoe\", \"shop\", \"shop\", \"shop\", \"sister\", \"sister\", \"skill\", \"skill\", \"small\", \"small\", \"small\", \"small\", \"st_emmanuel_ack_church\", \"stall\", \"stall\", \"start\", \"start\", \"start\", \"start\", \"steer\", \"steer\", \"stock\", \"stock\", \"stock\", \"store\", \"store\", \"supplement\", \"supplement\", \"supply\", \"supply\", \"supply\", \"support\", \"support\", \"support\", \"support\", \"tailor\", \"tailor\", \"take\", \"take\", \"take\", \"take\", \"tea\", \"tea\", \"therefore\", \"therefore\", \"therefore\", \"therefore\", \"thus\", \"thus\", \"train\", \"train\", \"train\", \"training\", \"training\", \"transportation\", \"transportation\", \"unable\", \"unable\", \"unable\", \"unsettled_affecting_many\", \"unsettled_affecting_many\", \"usd\", \"usd\", \"use\", \"use\", \"use\", \"use\", \"utilize\", \"utilize\", \"vegetable\", \"vegetable\", \"vegetable\", \"village\", \"village\", \"water\", \"water\", \"water_pump\", \"water_tank_storage\", \"weec\", \"weec\", \"weithaga\", \"weithaga\", \"well\", \"well\", \"well\", \"well\", \"wholesale\", \"wholesale\", \"wife\", \"wife\", \"wish\", \"wish\", \"within_period_month\", \"within_period_month\", \"woman\", \"woman\", \"woman\", \"work\", \"work\", \"work\", \"work\", \"worth\", \"worth\", \"would\", \"would\", \"would\", \"would\", \"year\", \"year\", \"year\", \"year\", \"yield\", \"yield\"]}, \"R\": 30, \"lambda.step\": 0.01, \"plot.opts\": {\"xlab\": \"PC1\", \"ylab\": \"PC2\"}, \"topic.order\": [4, 1, 3, 2]};\n",
       "\n",
       "function LDAvis_load_lib(url, callback){\n",
       "  var s = document.createElement('script');\n",
       "  s.src = url;\n",
       "  s.async = true;\n",
       "  s.onreadystatechange = s.onload = callback;\n",
       "  s.onerror = function(){console.warn(\"failed to load library \" + url);};\n",
       "  document.getElementsByTagName(\"head\")[0].appendChild(s);\n",
       "}\n",
       "\n",
       "if(typeof(LDAvis) !== \"undefined\"){\n",
       "   // already loaded: just create the visualization\n",
       "   !function(LDAvis){\n",
       "       new LDAvis(\"#\" + \"ldavis_el294841400162324389926722233118\", ldavis_el294841400162324389926722233118_data);\n",
       "   }(LDAvis);\n",
       "}else if(typeof define === \"function\" && define.amd){\n",
       "   // require.js is available: use it to load d3/LDAvis\n",
       "   require.config({paths: {d3: \"https://d3js.org/d3.v5\"}});\n",
       "   require([\"d3\"], function(d3){\n",
       "      window.d3 = d3;\n",
       "      LDAvis_load_lib(\"https://cdn.jsdelivr.net/gh/bmabey/pyLDAvis@3.2.2/pyLDAvis/js/ldavis.v3.0.0.js\", function(){\n",
       "        new LDAvis(\"#\" + \"ldavis_el294841400162324389926722233118\", ldavis_el294841400162324389926722233118_data);\n",
       "      });\n",
       "    });\n",
       "}else{\n",
       "    // require.js not available: dynamically load d3 & LDAvis\n",
       "    LDAvis_load_lib(\"https://d3js.org/d3.v5.js\", function(){\n",
       "         LDAvis_load_lib(\"https://cdn.jsdelivr.net/gh/bmabey/pyLDAvis@3.2.2/pyLDAvis/js/ldavis.v3.0.0.js\", function(){\n",
       "                 new LDAvis(\"#\" + \"ldavis_el294841400162324389926722233118\", ldavis_el294841400162324389926722233118_data);\n",
       "            })\n",
       "         });\n",
       "}\n",
       "</script>"
      ],
      "text/plain": [
       "PreparedData(topic_coordinates=              x         y  topics  cluster       Freq\n",
       "topic                                                \n",
       "3     -0.164688  0.139003       1        1  36.754396\n",
       "0      0.075029  0.237725       2        1  29.162038\n",
       "2      0.232054 -0.050160       3        1  28.165807\n",
       "1     -0.142394 -0.326568       4        1   5.917759, topic_info=          Term         Freq        Total Category  logprob  loglift\n",
       "616       farm  3162.000000  3162.000000  Default  30.0000  30.0000\n",
       "1626    farmer  2214.000000  2214.000000  Default  29.0000  29.0000\n",
       "2222   farming  1354.000000  1354.000000  Default  28.0000  28.0000\n",
       "477      stock  2992.000000  2992.000000  Default  27.0000  27.0000\n",
       "15       group  3110.000000  3110.000000  Default  26.0000  26.0000\n",
       "...        ...          ...          ...      ...      ...      ...\n",
       "34       small   146.311757  1988.613948   Topic4  -5.1889   0.2178\n",
       "6804     maize   122.926948   783.164034   Topic4  -5.3631   0.9755\n",
       "16      income   146.070131  3667.122924   Topic4  -5.1906  -0.3959\n",
       "100       area   115.194651  1329.824664   Topic4  -5.4280   0.3810\n",
       "564   activity   111.871654   454.786584   Topic4  -5.4573   1.4247\n",
       "\n",
       "[282 rows x 6 columns], token_table=      Topic      Freq   Term\n",
       "term                        \n",
       "0         1  0.629811   able\n",
       "0         2  0.132064   able\n",
       "0         3  0.238036   able\n",
       "0         4  0.000201   able\n",
       "5014      3  0.024163   acre\n",
       "...     ...       ...    ...\n",
       "123       2  0.310483   year\n",
       "123       3  0.156788   year\n",
       "123       4  0.000129   year\n",
       "5478      1  0.075909  yield\n",
       "5478      4  0.921754  yield\n",
       "\n",
       "[529 rows x 3 columns], R=30, lambda_step=0.01, plot_opts={'xlab': 'PC1', 'ylab': 'PC2'}, topic_order=[4, 1, 3, 2])"
      ]
     },
     "metadata": {},
     "output_type": "display_data"
    }
   ],
   "source": [
    "plot_model(lda, plot='topic_model')"
   ]
  },
  {
   "cell_type": "code",
   "execution_count": 23,
   "id": "1bb81196-159e-4b01-8583-ca400ed74c25",
   "metadata": {},
   "outputs": [
    {
     "data": {
      "text/html": [
       "        <script type=\"text/javascript\">\n",
       "        window.PlotlyConfig = {MathJaxConfig: 'local'};\n",
       "        if (window.MathJax && window.MathJax.Hub && window.MathJax.Hub.Config) {window.MathJax.Hub.Config({SVG: {font: \"STIX-Web\"}});}\n",
       "        if (typeof require !== 'undefined') {\n",
       "        require.undef(\"plotly\");\n",
       "        requirejs.config({\n",
       "            paths: {\n",
       "                'plotly': ['https://cdn.plot.ly/plotly-2.14.0.min']\n",
       "            }\n",
       "        });\n",
       "        require(['plotly'], function(Plotly) {\n",
       "            window._Plotly = Plotly;\n",
       "        });\n",
       "        }\n",
       "        </script>\n",
       "        "
      ]
     },
     "metadata": {},
     "output_type": "display_data"
    },
    {
     "name": "stderr",
     "output_type": "stream",
     "text": [
      "IOPub message rate exceeded.\n",
      "The Jupyter server will temporarily stop sending output\n",
      "to the client in order to avoid crashing it.\n",
      "To change this limit, set the config variable\n",
      "`--ServerApp.iopub_msg_rate_limit`.\n",
      "\n",
      "Current values:\n",
      "ServerApp.iopub_msg_rate_limit=1000.0 (msgs/sec)\n",
      "ServerApp.rate_limit_window=3.0 (secs)\n",
      "\n"
     ]
    },
    {
     "data": {
      "image/png": "[encoded data removed]",
      "text/plain": [
       "<Figure size 576x576 with 1 Axes>"
      ]
     },
     "metadata": {
      "needs_background": "light"
     },
     "output_type": "display_data"
    }
   ],
   "source": [
    "plot_model(lda, plot='wordcloud')"
   ]
  },
  {
   "cell_type": "code",
   "execution_count": 26,
   "id": "9e4f6e54-030d-4752-baef-6031301b9340",
   "metadata": {},
   "outputs": [
    {
     "data": {
      "text/html": [
       "        <script type=\"text/javascript\">\n",
       "        window.PlotlyConfig = {MathJaxConfig: 'local'};\n",
       "        if (window.MathJax && window.MathJax.Hub && window.MathJax.Hub.Config) {window.MathJax.Hub.Config({SVG: {font: \"STIX-Web\"}});}\n",
       "        if (typeof require !== 'undefined') {\n",
       "        require.undef(\"plotly\");\n",
       "        requirejs.config({\n",
       "            paths: {\n",
       "                'plotly': ['https://cdn.plot.ly/plotly-2.14.0.min']\n",
       "            }\n",
       "        });\n",
       "        require(['plotly'], function(Plotly) {\n",
       "            window._Plotly = Plotly;\n",
       "        });\n",
       "        }\n",
       "        </script>\n",
       "        "
      ]
     },
     "metadata": {},
     "output_type": "display_data"
    },
    {
     "name": "stderr",
     "output_type": "stream",
     "text": [
      "IOPub message rate exceeded.\n",
      "The Jupyter server will temporarily stop sending output\n",
      "to the client in order to avoid crashing it.\n",
      "To change this limit, set the config variable\n",
      "`--ServerApp.iopub_msg_rate_limit`.\n",
      "\n",
      "Current values:\n",
      "ServerApp.iopub_msg_rate_limit=1000.0 (msgs/sec)\n",
      "ServerApp.rate_limit_window=3.0 (secs)\n",
      "\n"
     ]
    },
    {
     "data": {
      "application/vnd.plotly.v1+json": {
       "config": {
        "linkText": "Export to plot.ly",
        "plotlyServerURL": "https://plot.ly",
        "showLink": true
       },
       "data": [
        {
         "marker": {
          "color": "rgba(255, 153, 51, 0.6)",
          "line": {
           "color": "rgba(255, 153, 51, 1.0)",
           "width": 1
          }
         },
         "name": "count",
         "orientation": "v",
         "text": "",
         "type": "bar",
         "x": [
          "business",
          "loan",
          "year",
          "sell",
          "child",
          "buy",
          "work",
          "old",
          "use",
          "help",
          "start",
          "also",
          "family",
          "able",
          "product",
          "make",
          "husband",
          "small",
          "school",
          "live",
          "well",
          "store",
          "purchase",
          "home",
          "increase",
          "customer",
          "good",
          "community",
          "income",
          "order",
          "need",
          "hope",
          "new",
          "mother",
          "support",
          "want",
          "woman",
          "request",
          "clothing",
          "client",
          "provide",
          "grow",
          "would",
          "entrepreneur",
          "time",
          "improve",
          "money",
          "go",
          "people",
          "run",
          "clothe",
          "sale",
          "stock",
          "ago",
          "continue",
          "expand",
          "house",
          "life",
          "invest",
          "food",
          "shop",
          "hard",
          "group",
          "plan",
          "capital",
          "operate",
          "take",
          "item",
          "give",
          "say",
          "profit",
          "offer",
          "pay",
          "market",
          "service",
          "begin",
          "first",
          "area",
          "currently",
          "demand",
          "education",
          "get",
          "day",
          "receive",
          "keep",
          "wife",
          "month",
          "age",
          "son",
          "allow",
          "supply",
          "daughter",
          "open",
          "experience",
          "second",
          "merchandise",
          "young",
          "high",
          "many",
          "single"
         ],
         "y": [
          10493,
          7322,
          5649,
          5581,
          4974,
          3347,
          3284,
          2969,
          2675,
          2647,
          2564,
          2530,
          2503,
          2499,
          2483,
          2448,
          2240,
          2190,
          2032,
          2028,
          1935,
          1911,
          1878,
          1860,
          1813,
          1779,
          1725,
          1648,
          1568,
          1558,
          1530,
          1525,
          1418,
          1373,
          1355,
          1325,
          1321,
          1290,
          1272,
          1199,
          1173,
          1170,
          1160,
          1131,
          1106,
          1103,
          1100,
          1082,
          1079,
          1041,
          1041,
          1033,
          1003,
          995,
          971,
          960,
          958,
          954,
          943,
          916,
          911,
          894,
          856,
          831,
          818,
          789,
          775,
          774,
          769,
          764,
          757,
          742,
          735,
          724,
          723,
          719,
          718,
          714,
          711,
          711,
          692,
          684,
          680,
          679,
          676,
          676,
          654,
          649,
          648,
          647,
          636,
          635,
          631,
          617,
          616,
          610,
          609,
          605,
          601,
          598
         ]
        }
       ],
       "layout": {
        "autosize": true,
        "legend": {
         "bgcolor": "#F5F6F9",
         "font": {
          "color": "#4D5663"
         }
        },
        "paper_bgcolor": "#F5F6F9",
        "plot_bgcolor": "#F5F6F9",
        "template": {
         "data": {
          "bar": [
           {
            "error_x": {
             "color": "#2a3f5f"
            },
            "error_y": {
             "color": "#2a3f5f"
            },
            "marker": {
             "line": {
              "color": "#E5ECF6",
              "width": 0.5
             },
             "pattern": {
              "fillmode": "overlay",
              "size": 10,
              "solidity": 0.2
             }
            },
            "type": "bar"
           }
          ],
          "barpolar": [
           {
            "marker": {
             "line": {
              "color": "#E5ECF6",
              "width": 0.5
             },
             "pattern": {
              "fillmode": "overlay",
              "size": 10,
              "solidity": 0.2
             }
            },
            "type": "barpolar"
           }
          ],
          "carpet": [
           {
            "aaxis": {
             "endlinecolor": "#2a3f5f",
             "gridcolor": "white",
             "linecolor": "white",
             "minorgridcolor": "white",
             "startlinecolor": "#2a3f5f"
            },
            "baxis": {
             "endlinecolor": "#2a3f5f",
             "gridcolor": "white",
             "linecolor": "white",
             "minorgridcolor": "white",
             "startlinecolor": "#2a3f5f"
            },
            "type": "carpet"
           }
          ],
          "choropleth": [
           {
            "colorbar": {
             "outlinewidth": 0,
             "ticks": ""
            },
            "type": "choropleth"
           }
          ],
          "contour": [
           {
            "colorbar": {
             "outlinewidth": 0,
             "ticks": ""
            },
            "colorscale": [
             [
              0,
              "#0d0887"
             ],
             [
              0.1111111111111111,
              "#46039f"
             ],
             [
              0.2222222222222222,
              "#7201a8"
             ],
             [
              0.3333333333333333,
              "#9c179e"
             ],
             [
              0.4444444444444444,
              "#bd3786"
             ],
             [
              0.5555555555555556,
              "#d8576b"
             ],
             [
              0.6666666666666666,
              "#ed7953"
             ],
             [
              0.7777777777777778,
              "#fb9f3a"
             ],
             [
              0.8888888888888888,
              "#fdca26"
             ],
             [
              1,
              "#f0f921"
             ]
            ],
            "type": "contour"
           }
          ],
          "contourcarpet": [
           {
            "colorbar": {
             "outlinewidth": 0,
             "ticks": ""
            },
            "type": "contourcarpet"
           }
          ],
          "heatmap": [
           {
            "colorbar": {
             "outlinewidth": 0,
             "ticks": ""
            },
            "colorscale": [
             [
              0,
              "#0d0887"
             ],
             [
              0.1111111111111111,
              "#46039f"
             ],
             [
              0.2222222222222222,
              "#7201a8"
             ],
             [
              0.3333333333333333,
              "#9c179e"
             ],
             [
              0.4444444444444444,
              "#bd3786"
             ],
             [
              0.5555555555555556,
              "#d8576b"
             ],
             [
              0.6666666666666666,
              "#ed7953"
             ],
             [
              0.7777777777777778,
              "#fb9f3a"
             ],
             [
              0.8888888888888888,
              "#fdca26"
             ],
             [
              1,
              "#f0f921"
             ]
            ],
            "type": "heatmap"
           }
          ],
          "heatmapgl": [
           {
            "colorbar": {
             "outlinewidth": 0,
             "ticks": ""
            },
            "colorscale": [
             [
              0,
              "#0d0887"
             ],
             [
              0.1111111111111111,
              "#46039f"
             ],
             [
              0.2222222222222222,
              "#7201a8"
             ],
             [
              0.3333333333333333,
              "#9c179e"
             ],
             [
              0.4444444444444444,
              "#bd3786"
             ],
             [
              0.5555555555555556,
              "#d8576b"
             ],
             [
              0.6666666666666666,
              "#ed7953"
             ],
             [
              0.7777777777777778,
              "#fb9f3a"
             ],
             [
              0.8888888888888888,
              "#fdca26"
             ],
             [
              1,
              "#f0f921"
             ]
            ],
            "type": "heatmapgl"
           }
          ],
          "histogram": [
           {
            "marker": {
             "pattern": {
              "fillmode": "overlay",
              "size": 10,
              "solidity": 0.2
             }
            },
            "type": "histogram"
           }
          ],
          "histogram2d": [
           {
            "colorbar": {
             "outlinewidth": 0,
             "ticks": ""
            },
            "colorscale": [
             [
              0,
              "#0d0887"
             ],
             [
              0.1111111111111111,
              "#46039f"
             ],
             [
              0.2222222222222222,
              "#7201a8"
             ],
             [
              0.3333333333333333,
              "#9c179e"
             ],
             [
              0.4444444444444444,
              "#bd3786"
             ],
             [
              0.5555555555555556,
              "#d8576b"
             ],
             [
              0.6666666666666666,
              "#ed7953"
             ],
             [
              0.7777777777777778,
              "#fb9f3a"
             ],
             [
              0.8888888888888888,
              "#fdca26"
             ],
             [
              1,
              "#f0f921"
             ]
            ],
            "type": "histogram2d"
           }
          ],
          "histogram2dcontour": [
           {
            "colorbar": {
             "outlinewidth": 0,
             "ticks": ""
            },
            "colorscale": [
             [
              0,
              "#0d0887"
             ],
             [
              0.1111111111111111,
              "#46039f"
             ],
             [
              0.2222222222222222,
              "#7201a8"
             ],
             [
              0.3333333333333333,
              "#9c179e"
             ],
             [
              0.4444444444444444,
              "#bd3786"
             ],
             [
              0.5555555555555556,
              "#d8576b"
             ],
             [
              0.6666666666666666,
              "#ed7953"
             ],
             [
              0.7777777777777778,
              "#fb9f3a"
             ],
             [
              0.8888888888888888,
              "#fdca26"
             ],
             [
              1,
              "#f0f921"
             ]
            ],
            "type": "histogram2dcontour"
           }
          ],
          "mesh3d": [
           {
            "colorbar": {
             "outlinewidth": 0,
             "ticks": ""
            },
            "type": "mesh3d"
           }
          ],
          "parcoords": [
           {
            "line": {
             "colorbar": {
              "outlinewidth": 0,
              "ticks": ""
             }
            },
            "type": "parcoords"
           }
          ],
          "pie": [
           {
            "automargin": true,
            "type": "pie"
           }
          ],
          "scatter": [
           {
            "fillpattern": {
             "fillmode": "overlay",
             "size": 10,
             "solidity": 0.2
            },
            "type": "scatter"
           }
          ],
          "scatter3d": [
           {
            "line": {
             "colorbar": {
              "outlinewidth": 0,
              "ticks": ""
             }
            },
            "marker": {
             "colorbar": {
              "outlinewidth": 0,
              "ticks": ""
             }
            },
            "type": "scatter3d"
           }
          ],
          "scattercarpet": [
           {
            "marker": {
             "colorbar": {
              "outlinewidth": 0,
              "ticks": ""
             }
            },
            "type": "scattercarpet"
           }
          ],
          "scattergeo": [
           {
            "marker": {
             "colorbar": {
              "outlinewidth": 0,
              "ticks": ""
             }
            },
            "type": "scattergeo"
           }
          ],
          "scattergl": [
           {
            "marker": {
             "colorbar": {
              "outlinewidth": 0,
              "ticks": ""
             }
            },
            "type": "scattergl"
           }
          ],
          "scattermapbox": [
           {
            "marker": {
             "colorbar": {
              "outlinewidth": 0,
              "ticks": ""
             }
            },
            "type": "scattermapbox"
           }
          ],
          "scatterpolar": [
           {
            "marker": {
             "colorbar": {
              "outlinewidth": 0,
              "ticks": ""
             }
            },
            "type": "scatterpolar"
           }
          ],
          "scatterpolargl": [
           {
            "marker": {
             "colorbar": {
              "outlinewidth": 0,
              "ticks": ""
             }
            },
            "type": "scatterpolargl"
           }
          ],
          "scatterternary": [
           {
            "marker": {
             "colorbar": {
              "outlinewidth": 0,
              "ticks": ""
             }
            },
            "type": "scatterternary"
           }
          ],
          "surface": [
           {
            "colorbar": {
             "outlinewidth": 0,
             "ticks": ""
            },
            "colorscale": [
             [
              0,
              "#0d0887"
             ],
             [
              0.1111111111111111,
              "#46039f"
             ],
             [
              0.2222222222222222,
              "#7201a8"
             ],
             [
              0.3333333333333333,
              "#9c179e"
             ],
             [
              0.4444444444444444,
              "#bd3786"
             ],
             [
              0.5555555555555556,
              "#d8576b"
             ],
             [
              0.6666666666666666,
              "#ed7953"
             ],
             [
              0.7777777777777778,
              "#fb9f3a"
             ],
             [
              0.8888888888888888,
              "#fdca26"
             ],
             [
              1,
              "#f0f921"
             ]
            ],
            "type": "surface"
           }
          ],
          "table": [
           {
            "cells": {
             "fill": {
              "color": "#EBF0F8"
             },
             "line": {
              "color": "white"
             }
            },
            "header": {
             "fill": {
              "color": "#C8D4E3"
             },
             "line": {
              "color": "white"
             }
            },
            "type": "table"
           }
          ]
         },
         "layout": {
          "annotationdefaults": {
           "arrowcolor": "#2a3f5f",
           "arrowhead": 0,
           "arrowwidth": 1
          },
          "autotypenumbers": "strict",
          "coloraxis": {
           "colorbar": {
            "outlinewidth": 0,
            "ticks": ""
           }
          },
          "colorscale": {
           "diverging": [
            [
             0,
             "#8e0152"
            ],
            [
             0.1,
             "#c51b7d"
            ],
            [
             0.2,
             "#de77ae"
            ],
            [
             0.3,
             "#f1b6da"
            ],
            [
             0.4,
             "#fde0ef"
            ],
            [
             0.5,
             "#f7f7f7"
            ],
            [
             0.6,
             "#e6f5d0"
            ],
            [
             0.7,
             "#b8e186"
            ],
            [
             0.8,
             "#7fbc41"
            ],
            [
             0.9,
             "#4d9221"
            ],
            [
             1,
             "#276419"
            ]
           ],
           "sequential": [
            [
             0,
             "#0d0887"
            ],
            [
             0.1111111111111111,
             "#46039f"
            ],
            [
             0.2222222222222222,
             "#7201a8"
            ],
            [
             0.3333333333333333,
             "#9c179e"
            ],
            [
             0.4444444444444444,
             "#bd3786"
            ],
            [
             0.5555555555555556,
             "#d8576b"
            ],
            [
             0.6666666666666666,
             "#ed7953"
            ],
            [
             0.7777777777777778,
             "#fb9f3a"
            ],
            [
             0.8888888888888888,
             "#fdca26"
            ],
            [
             1,
             "#f0f921"
            ]
           ],
           "sequentialminus": [
            [
             0,
             "#0d0887"
            ],
            [
             0.1111111111111111,
             "#46039f"
            ],
            [
             0.2222222222222222,
             "#7201a8"
            ],
            [
             0.3333333333333333,
             "#9c179e"
            ],
            [
             0.4444444444444444,
             "#bd3786"
            ],
            [
             0.5555555555555556,
             "#d8576b"
            ],
            [
             0.6666666666666666,
             "#ed7953"
            ],
            [
             0.7777777777777778,
             "#fb9f3a"
            ],
            [
             0.8888888888888888,
             "#fdca26"
            ],
            [
             1,
             "#f0f921"
            ]
           ]
          },
          "colorway": [
           "#636efa",
           "#EF553B",
           "#00cc96",
           "#ab63fa",
           "#FFA15A",
           "#19d3f3",
           "#FF6692",
           "#B6E880",
           "#FF97FF",
           "#FECB52"
          ],
          "font": {
           "color": "#2a3f5f"
          },
          "geo": {
           "bgcolor": "white",
           "lakecolor": "white",
           "landcolor": "#E5ECF6",
           "showlakes": true,
           "showland": true,
           "subunitcolor": "white"
          },
          "hoverlabel": {
           "align": "left"
          },
          "hovermode": "closest",
          "mapbox": {
           "style": "light"
          },
          "paper_bgcolor": "white",
          "plot_bgcolor": "#E5ECF6",
          "polar": {
           "angularaxis": {
            "gridcolor": "white",
            "linecolor": "white",
            "ticks": ""
           },
           "bgcolor": "#E5ECF6",
           "radialaxis": {
            "gridcolor": "white",
            "linecolor": "white",
            "ticks": ""
           }
          },
          "scene": {
           "xaxis": {
            "backgroundcolor": "#E5ECF6",
            "gridcolor": "white",
            "gridwidth": 2,
            "linecolor": "white",
            "showbackground": true,
            "ticks": "",
            "zerolinecolor": "white"
           },
           "yaxis": {
            "backgroundcolor": "#E5ECF6",
            "gridcolor": "white",
            "gridwidth": 2,
            "linecolor": "white",
            "showbackground": true,
            "ticks": "",
            "zerolinecolor": "white"
           },
           "zaxis": {
            "backgroundcolor": "#E5ECF6",
            "gridcolor": "white",
            "gridwidth": 2,
            "linecolor": "white",
            "showbackground": true,
            "ticks": "",
            "zerolinecolor": "white"
           }
          },
          "shapedefaults": {
           "line": {
            "color": "#2a3f5f"
           }
          },
          "ternary": {
           "aaxis": {
            "gridcolor": "white",
            "linecolor": "white",
            "ticks": ""
           },
           "baxis": {
            "gridcolor": "white",
            "linecolor": "white",
            "ticks": ""
           },
           "bgcolor": "#E5ECF6",
           "caxis": {
            "gridcolor": "white",
            "linecolor": "white",
            "ticks": ""
           }
          },
          "title": {
           "x": 0.05
          },
          "xaxis": {
           "automargin": true,
           "gridcolor": "white",
           "linecolor": "white",
           "ticks": "",
           "title": {
            "standoff": 15
           },
           "zerolinecolor": "white",
           "zerolinewidth": 2
          },
          "yaxis": {
           "automargin": true,
           "gridcolor": "white",
           "linecolor": "white",
           "ticks": "",
           "title": {
            "standoff": 15
           },
           "zerolinecolor": "white",
           "zerolinewidth": 2
          }
         }
        },
        "title": {
         "font": {
          "color": "#4D5663"
         },
         "text": "Topic 0: Top 100 words after removing stop words"
        },
        "xaxis": {
         "autorange": true,
         "gridcolor": "#E1E5ED",
         "linecolor": "black",
         "range": [
          -0.5,
          99.5
         ],
         "showgrid": true,
         "tickfont": {
          "color": "#4D5663"
         },
         "title": {
          "font": {
           "color": "#4D5663"
          },
          "text": ""
         },
         "type": "category",
         "zerolinecolor": "#E1E5ED"
        },
        "yaxis": {
         "autorange": true,
         "gridcolor": "#E1E5ED",
         "linecolor": "black",
         "range": [
          0,
          11045.263157894737
         ],
         "showgrid": true,
         "tickfont": {
          "color": "#4D5663"
         },
         "title": {
          "font": {
           "color": "#4D5663"
          },
          "text": "Count"
         },
         "type": "linear",
         "zerolinecolor": "#E1E5ED"
        }
       }
      },
      "image/png": "[encoded data removed]",
      "text/html": [
       "<div>                            <div id=\"7eb9593d-162e-4782-b56f-567f85a4a13d\" class=\"plotly-graph-div\" style=\"height:525px; width:100%;\"></div>            <script type=\"text/javascript\">                require([\"plotly\"], function(Plotly) {                    window.PLOTLYENV=window.PLOTLYENV || {};\n",
       "                    window.PLOTLYENV.BASE_URL='https://plot.ly';                                    if (document.getElementById(\"7eb9593d-162e-4782-b56f-567f85a4a13d\")) {                    Plotly.newPlot(                        \"7eb9593d-162e-4782-b56f-567f85a4a13d\",                        [{\"marker\":{\"color\":\"rgba(255, 153, 51, 0.6)\",\"line\":{\"color\":\"rgba(255, 153, 51, 1.0)\",\"width\":1}},\"name\":\"count\",\"orientation\":\"v\",\"text\":\"\",\"x\":[\"business\",\"loan\",\"year\",\"sell\",\"child\",\"buy\",\"work\",\"old\",\"use\",\"help\",\"start\",\"also\",\"family\",\"able\",\"product\",\"make\",\"husband\",\"small\",\"school\",\"live\",\"well\",\"store\",\"purchase\",\"home\",\"increase\",\"customer\",\"good\",\"community\",\"income\",\"order\",\"need\",\"hope\",\"new\",\"mother\",\"support\",\"want\",\"woman\",\"request\",\"clothing\",\"client\",\"provide\",\"grow\",\"would\",\"entrepreneur\",\"time\",\"improve\",\"money\",\"go\",\"people\",\"run\",\"clothe\",\"sale\",\"stock\",\"ago\",\"continue\",\"expand\",\"house\",\"life\",\"invest\",\"food\",\"shop\",\"hard\",\"group\",\"plan\",\"capital\",\"operate\",\"take\",\"item\",\"give\",\"say\",\"profit\",\"offer\",\"pay\",\"market\",\"service\",\"begin\",\"first\",\"area\",\"currently\",\"demand\",\"education\",\"get\",\"day\",\"receive\",\"keep\",\"wife\",\"month\",\"age\",\"son\",\"allow\",\"supply\",\"daughter\",\"open\",\"experience\",\"second\",\"merchandise\",\"young\",\"high\",\"many\",\"single\"],\"y\":[10493,7322,5649,5581,4974,3347,3284,2969,2675,2647,2564,2530,2503,2499,2483,2448,2240,2190,2032,2028,1935,1911,1878,1860,1813,1779,1725,1648,1568,1558,1530,1525,1418,1373,1355,1325,1321,1290,1272,1199,1173,1170,1160,1131,1106,1103,1100,1082,1079,1041,1041,1033,1003,995,971,960,958,954,943,916,911,894,856,831,818,789,775,774,769,764,757,742,735,724,723,719,718,714,711,711,692,684,680,679,676,676,654,649,648,647,636,635,631,617,616,610,609,605,601,598],\"type\":\"bar\"}],                        {\"legend\":{\"bgcolor\":\"#F5F6F9\",\"font\":{\"color\":\"#4D5663\"}},\"paper_bgcolor\":\"#F5F6F9\",\"plot_bgcolor\":\"#F5F6F9\",\"template\":{\"data\":{\"barpolar\":[{\"marker\":{\"line\":{\"color\":\"#E5ECF6\",\"width\":0.5},\"pattern\":{\"fillmode\":\"overlay\",\"size\":10,\"solidity\":0.2}},\"type\":\"barpolar\"}],\"bar\":[{\"error_x\":{\"color\":\"#2a3f5f\"},\"error_y\":{\"color\":\"#2a3f5f\"},\"marker\":{\"line\":{\"color\":\"#E5ECF6\",\"width\":0.5},\"pattern\":{\"fillmode\":\"overlay\",\"size\":10,\"solidity\":0.2}},\"type\":\"bar\"}],\"carpet\":[{\"aaxis\":{\"endlinecolor\":\"#2a3f5f\",\"gridcolor\":\"white\",\"linecolor\":\"white\",\"minorgridcolor\":\"white\",\"startlinecolor\":\"#2a3f5f\"},\"baxis\":{\"endlinecolor\":\"#2a3f5f\",\"gridcolor\":\"white\",\"linecolor\":\"white\",\"minorgridcolor\":\"white\",\"startlinecolor\":\"#2a3f5f\"},\"type\":\"carpet\"}],\"choropleth\":[{\"colorbar\":{\"outlinewidth\":0,\"ticks\":\"\"},\"type\":\"choropleth\"}],\"contourcarpet\":[{\"colorbar\":{\"outlinewidth\":0,\"ticks\":\"\"},\"type\":\"contourcarpet\"}],\"contour\":[{\"colorbar\":{\"outlinewidth\":0,\"ticks\":\"\"},\"colorscale\":[[0.0,\"#0d0887\"],[0.1111111111111111,\"#46039f\"],[0.2222222222222222,\"#7201a8\"],[0.3333333333333333,\"#9c179e\"],[0.4444444444444444,\"#bd3786\"],[0.5555555555555556,\"#d8576b\"],[0.6666666666666666,\"#ed7953\"],[0.7777777777777778,\"#fb9f3a\"],[0.8888888888888888,\"#fdca26\"],[1.0,\"#f0f921\"]],\"type\":\"contour\"}],\"heatmapgl\":[{\"colorbar\":{\"outlinewidth\":0,\"ticks\":\"\"},\"colorscale\":[[0.0,\"#0d0887\"],[0.1111111111111111,\"#46039f\"],[0.2222222222222222,\"#7201a8\"],[0.3333333333333333,\"#9c179e\"],[0.4444444444444444,\"#bd3786\"],[0.5555555555555556,\"#d8576b\"],[0.6666666666666666,\"#ed7953\"],[0.7777777777777778,\"#fb9f3a\"],[0.8888888888888888,\"#fdca26\"],[1.0,\"#f0f921\"]],\"type\":\"heatmapgl\"}],\"heatmap\":[{\"colorbar\":{\"outlinewidth\":0,\"ticks\":\"\"},\"colorscale\":[[0.0,\"#0d0887\"],[0.1111111111111111,\"#46039f\"],[0.2222222222222222,\"#7201a8\"],[0.3333333333333333,\"#9c179e\"],[0.4444444444444444,\"#bd3786\"],[0.5555555555555556,\"#d8576b\"],[0.6666666666666666,\"#ed7953\"],[0.7777777777777778,\"#fb9f3a\"],[0.8888888888888888,\"#fdca26\"],[1.0,\"#f0f921\"]],\"type\":\"heatmap\"}],\"histogram2dcontour\":[{\"colorbar\":{\"outlinewidth\":0,\"ticks\":\"\"},\"colorscale\":[[0.0,\"#0d0887\"],[0.1111111111111111,\"#46039f\"],[0.2222222222222222,\"#7201a8\"],[0.3333333333333333,\"#9c179e\"],[0.4444444444444444,\"#bd3786\"],[0.5555555555555556,\"#d8576b\"],[0.6666666666666666,\"#ed7953\"],[0.7777777777777778,\"#fb9f3a\"],[0.8888888888888888,\"#fdca26\"],[1.0,\"#f0f921\"]],\"type\":\"histogram2dcontour\"}],\"histogram2d\":[{\"colorbar\":{\"outlinewidth\":0,\"ticks\":\"\"},\"colorscale\":[[0.0,\"#0d0887\"],[0.1111111111111111,\"#46039f\"],[0.2222222222222222,\"#7201a8\"],[0.3333333333333333,\"#9c179e\"],[0.4444444444444444,\"#bd3786\"],[0.5555555555555556,\"#d8576b\"],[0.6666666666666666,\"#ed7953\"],[0.7777777777777778,\"#fb9f3a\"],[0.8888888888888888,\"#fdca26\"],[1.0,\"#f0f921\"]],\"type\":\"histogram2d\"}],\"histogram\":[{\"marker\":{\"pattern\":{\"fillmode\":\"overlay\",\"size\":10,\"solidity\":0.2}},\"type\":\"histogram\"}],\"mesh3d\":[{\"colorbar\":{\"outlinewidth\":0,\"ticks\":\"\"},\"type\":\"mesh3d\"}],\"parcoords\":[{\"line\":{\"colorbar\":{\"outlinewidth\":0,\"ticks\":\"\"}},\"type\":\"parcoords\"}],\"pie\":[{\"automargin\":true,\"type\":\"pie\"}],\"scatter3d\":[{\"line\":{\"colorbar\":{\"outlinewidth\":0,\"ticks\":\"\"}},\"marker\":{\"colorbar\":{\"outlinewidth\":0,\"ticks\":\"\"}},\"type\":\"scatter3d\"}],\"scattercarpet\":[{\"marker\":{\"colorbar\":{\"outlinewidth\":0,\"ticks\":\"\"}},\"type\":\"scattercarpet\"}],\"scattergeo\":[{\"marker\":{\"colorbar\":{\"outlinewidth\":0,\"ticks\":\"\"}},\"type\":\"scattergeo\"}],\"scattergl\":[{\"marker\":{\"colorbar\":{\"outlinewidth\":0,\"ticks\":\"\"}},\"type\":\"scattergl\"}],\"scattermapbox\":[{\"marker\":{\"colorbar\":{\"outlinewidth\":0,\"ticks\":\"\"}},\"type\":\"scattermapbox\"}],\"scatterpolargl\":[{\"marker\":{\"colorbar\":{\"outlinewidth\":0,\"ticks\":\"\"}},\"type\":\"scatterpolargl\"}],\"scatterpolar\":[{\"marker\":{\"colorbar\":{\"outlinewidth\":0,\"ticks\":\"\"}},\"type\":\"scatterpolar\"}],\"scatter\":[{\"fillpattern\":{\"fillmode\":\"overlay\",\"size\":10,\"solidity\":0.2},\"type\":\"scatter\"}],\"scatterternary\":[{\"marker\":{\"colorbar\":{\"outlinewidth\":0,\"ticks\":\"\"}},\"type\":\"scatterternary\"}],\"surface\":[{\"colorbar\":{\"outlinewidth\":0,\"ticks\":\"\"},\"colorscale\":[[0.0,\"#0d0887\"],[0.1111111111111111,\"#46039f\"],[0.2222222222222222,\"#7201a8\"],[0.3333333333333333,\"#9c179e\"],[0.4444444444444444,\"#bd3786\"],[0.5555555555555556,\"#d8576b\"],[0.6666666666666666,\"#ed7953\"],[0.7777777777777778,\"#fb9f3a\"],[0.8888888888888888,\"#fdca26\"],[1.0,\"#f0f921\"]],\"type\":\"surface\"}],\"table\":[{\"cells\":{\"fill\":{\"color\":\"#EBF0F8\"},\"line\":{\"color\":\"white\"}},\"header\":{\"fill\":{\"color\":\"#C8D4E3\"},\"line\":{\"color\":\"white\"}},\"type\":\"table\"}]},\"layout\":{\"annotationdefaults\":{\"arrowcolor\":\"#2a3f5f\",\"arrowhead\":0,\"arrowwidth\":1},\"autotypenumbers\":\"strict\",\"coloraxis\":{\"colorbar\":{\"outlinewidth\":0,\"ticks\":\"\"}},\"colorscale\":{\"diverging\":[[0,\"#8e0152\"],[0.1,\"#c51b7d\"],[0.2,\"#de77ae\"],[0.3,\"#f1b6da\"],[0.4,\"#fde0ef\"],[0.5,\"#f7f7f7\"],[0.6,\"#e6f5d0\"],[0.7,\"#b8e186\"],[0.8,\"#7fbc41\"],[0.9,\"#4d9221\"],[1,\"#276419\"]],\"sequential\":[[0.0,\"#0d0887\"],[0.1111111111111111,\"#46039f\"],[0.2222222222222222,\"#7201a8\"],[0.3333333333333333,\"#9c179e\"],[0.4444444444444444,\"#bd3786\"],[0.5555555555555556,\"#d8576b\"],[0.6666666666666666,\"#ed7953\"],[0.7777777777777778,\"#fb9f3a\"],[0.8888888888888888,\"#fdca26\"],[1.0,\"#f0f921\"]],\"sequentialminus\":[[0.0,\"#0d0887\"],[0.1111111111111111,\"#46039f\"],[0.2222222222222222,\"#7201a8\"],[0.3333333333333333,\"#9c179e\"],[0.4444444444444444,\"#bd3786\"],[0.5555555555555556,\"#d8576b\"],[0.6666666666666666,\"#ed7953\"],[0.7777777777777778,\"#fb9f3a\"],[0.8888888888888888,\"#fdca26\"],[1.0,\"#f0f921\"]]},\"colorway\":[\"#636efa\",\"#EF553B\",\"#00cc96\",\"#ab63fa\",\"#FFA15A\",\"#19d3f3\",\"#FF6692\",\"#B6E880\",\"#FF97FF\",\"#FECB52\"],\"font\":{\"color\":\"#2a3f5f\"},\"geo\":{\"bgcolor\":\"white\",\"lakecolor\":\"white\",\"landcolor\":\"#E5ECF6\",\"showlakes\":true,\"showland\":true,\"subunitcolor\":\"white\"},\"hoverlabel\":{\"align\":\"left\"},\"hovermode\":\"closest\",\"mapbox\":{\"style\":\"light\"},\"paper_bgcolor\":\"white\",\"plot_bgcolor\":\"#E5ECF6\",\"polar\":{\"angularaxis\":{\"gridcolor\":\"white\",\"linecolor\":\"white\",\"ticks\":\"\"},\"bgcolor\":\"#E5ECF6\",\"radialaxis\":{\"gridcolor\":\"white\",\"linecolor\":\"white\",\"ticks\":\"\"}},\"scene\":{\"xaxis\":{\"backgroundcolor\":\"#E5ECF6\",\"gridcolor\":\"white\",\"gridwidth\":2,\"linecolor\":\"white\",\"showbackground\":true,\"ticks\":\"\",\"zerolinecolor\":\"white\"},\"yaxis\":{\"backgroundcolor\":\"#E5ECF6\",\"gridcolor\":\"white\",\"gridwidth\":2,\"linecolor\":\"white\",\"showbackground\":true,\"ticks\":\"\",\"zerolinecolor\":\"white\"},\"zaxis\":{\"backgroundcolor\":\"#E5ECF6\",\"gridcolor\":\"white\",\"gridwidth\":2,\"linecolor\":\"white\",\"showbackground\":true,\"ticks\":\"\",\"zerolinecolor\":\"white\"}},\"shapedefaults\":{\"line\":{\"color\":\"#2a3f5f\"}},\"ternary\":{\"aaxis\":{\"gridcolor\":\"white\",\"linecolor\":\"white\",\"ticks\":\"\"},\"baxis\":{\"gridcolor\":\"white\",\"linecolor\":\"white\",\"ticks\":\"\"},\"bgcolor\":\"#E5ECF6\",\"caxis\":{\"gridcolor\":\"white\",\"linecolor\":\"white\",\"ticks\":\"\"}},\"title\":{\"x\":0.05},\"xaxis\":{\"automargin\":true,\"gridcolor\":\"white\",\"linecolor\":\"white\",\"ticks\":\"\",\"title\":{\"standoff\":15},\"zerolinecolor\":\"white\",\"zerolinewidth\":2},\"yaxis\":{\"automargin\":true,\"gridcolor\":\"white\",\"linecolor\":\"white\",\"ticks\":\"\",\"title\":{\"standoff\":15},\"zerolinecolor\":\"white\",\"zerolinewidth\":2}}},\"title\":{\"font\":{\"color\":\"#4D5663\"},\"text\":\"Topic 0: Top 100 words after removing stop words\"},\"xaxis\":{\"gridcolor\":\"#E1E5ED\",\"linecolor\":\"black\",\"showgrid\":true,\"tickfont\":{\"color\":\"#4D5663\"},\"title\":{\"font\":{\"color\":\"#4D5663\"},\"text\":\"\"},\"zerolinecolor\":\"#E1E5ED\"},\"yaxis\":{\"gridcolor\":\"#E1E5ED\",\"linecolor\":\"black\",\"showgrid\":true,\"tickfont\":{\"color\":\"#4D5663\"},\"title\":{\"font\":{\"color\":\"#4D5663\"},\"text\":\"Count\"},\"zerolinecolor\":\"#E1E5ED\"}},                        {\"showLink\": true, \"linkText\": \"Export to plot.ly\", \"plotlyServerURL\": \"https://plot.ly\", \"responsive\": true}                    ).then(function(){\n",
       "                            \n",
       "var gd = document.getElementById('7eb9593d-162e-4782-b56f-567f85a4a13d');\n",
       "var x = new MutationObserver(function (mutations, observer) {{\n",
       "        var display = window.getComputedStyle(gd).display;\n",
       "        if (!display || display === 'none') {{\n",
       "            console.log([gd, 'removed!']);\n",
       "            Plotly.purge(gd);\n",
       "            observer.disconnect();\n",
       "        }}\n",
       "}});\n",
       "\n",
       "// Listen for the removal of the full notebook cells\n",
       "var notebookContainer = gd.closest('#notebook-container');\n",
       "if (notebookContainer) {{\n",
       "    x.observe(notebookContainer, {childList: true});\n",
       "}}\n",
       "\n",
       "// Listen for the clearing of the current output cell\n",
       "var outputEl = gd.closest('.output');\n",
       "if (outputEl) {{\n",
       "    x.observe(outputEl, {childList: true});\n",
       "}}\n",
       "\n",
       "                        })                };                });            </script>        </div>"
      ]
     },
     "metadata": {},
     "output_type": "display_data"
    }
   ],
   "source": [
    "plot_model(nmf)"
   ]
  },
  {
   "cell_type": "markdown",
   "id": "d94068ad-c639-45ed-968d-fbb08addc695",
   "metadata": {
    "tags": []
   },
   "source": [
    "# Save Model"
   ]
  },
  {
   "cell_type": "code",
   "execution_count": 14,
   "id": "f89c8815-b692-438d-a756-669ec0eef480",
   "metadata": {},
   "outputs": [
    {
     "name": "stdout",
     "output_type": "stream",
     "text": [
      "Model Succesfully Saved\n"
     ]
    },
    {
     "data": {
      "text/plain": [
       "(<gensim.models.ldamodel.LdaModel at 0x7f582adbd450>, './lda_model.pkl')"
      ]
     },
     "execution_count": 14,
     "metadata": {},
     "output_type": "execute_result"
    }
   ],
   "source": [
    "save_model(lda, './lda_model')"
   ]
  },
  {
   "cell_type": "code",
   "execution_count": null,
   "id": "620e5e90-95ef-483a-8867-4c50c023f4f1",
   "metadata": {},
   "outputs": [],
   "source": [
    "save_model(nmf, './nmf_model')"
   ]
  }
 ],
 "metadata": {
  "kernelspec": {
   "display_name": "junghwan",
   "language": "python",
   "name": "junghwan"
  },
  "language_info": {
   "codemirror_mode": {
    "name": "ipython",
    "version": 3
   },
   "file_extension": ".py",
   "mimetype": "text/x-python",
   "name": "python",
   "nbconvert_exporter": "python",
   "pygments_lexer": "ipython3",
   "version": "3.7.13"
  }
 },
 "nbformat": 4,
 "nbformat_minor": 5
}
